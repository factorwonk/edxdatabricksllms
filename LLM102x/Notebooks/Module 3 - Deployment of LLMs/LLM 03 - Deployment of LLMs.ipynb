{
 "cells": [
  {
   "cell_type": "markdown",
   "metadata": {
    "application/vnd.databricks.v1+cell": {
     "cellMetadata": {},
     "inputWidgets": {},
     "nuid": "bf6762e9-c0d3-41ea-86a1-23cd8e919381",
     "showTitle": false,
     "title": ""
    }
   },
   "source": [
    "\n",
    "<div style=\"text-align: center; line-height: 0; padding-top: 9px;\">\n",
    "  <img src=\"https://databricks.com/wp-content/uploads/2018/03/db-academy-rgb-1200px.png\" alt=\"Databricks Learning\" style=\"width: 600px\">\n",
    "</div>"
   ]
  },
  {
   "cell_type": "markdown",
   "metadata": {
    "application/vnd.databricks.v1+cell": {
     "cellMetadata": {},
     "inputWidgets": {},
     "nuid": "4c9f7994-acb8-431c-965b-455bd559dfb4",
     "showTitle": false,
     "title": ""
    }
   },
   "source": [
    "# Understanding and Applying Quantization\n",
    "\n",
    "Quantization is a method that can allow models to run faster and use less memory. By converting 32-bit floating-point numbers (the `float32` data type) into lower-precision formats, like 8-bit integers (the `int8` data type), we can reduce the computational requirements of our models. Let's start with the basics and gradually move towards quantizing complex models like CNNs.\n",
    "\n",
    "### ![Dolly](https://files.training.databricks.com/images/llm/dolly_small.png) Learning Objectives\n",
    "1. Explore how to quantize a a single variable and a function in pytorch\n",
    "1. Apply quantization to a neural network\n",
    "1. Compare the size and performance of quantized convolutional neural network "
   ]
  },
  {
   "cell_type": "markdown",
   "metadata": {
    "application/vnd.databricks.v1+cell": {
     "cellMetadata": {},
     "inputWidgets": {},
     "nuid": "ae4b0f2b-422e-4f81-86cf-0b10b9d71c67",
     "showTitle": false,
     "title": ""
    }
   },
   "source": [
    "\n",
    "## Classroom Setup"
   ]
  },
  {
   "cell_type": "code",
   "execution_count": 0,
   "metadata": {
    "application/vnd.databricks.v1+cell": {
     "cellMetadata": {
      "byteLimit": 2048000,
      "rowLimit": 10000
     },
     "inputWidgets": {},
     "nuid": "44fda066-4b6e-48e5-a6d8-8cfcd052042f",
     "showTitle": false,
     "title": ""
    }
   },
   "outputs": [
    {
     "output_type": "stream",
     "name": "stdout",
     "output_type": "stream",
     "text": [
      "\u001B[43mNote: you may need to restart the kernel using dbutils.library.restartPython() to use updated packages.\u001B[0m\n\u001B[43mNote: you may need to restart the kernel using dbutils.library.restartPython() to use updated packages.\u001B[0m\n"
     ]
    },
    {
     "output_type": "stream",
     "name": "stdout",
     "output_type": "stream",
     "text": [
      "Resetting the learning environment:\n| enumerating serving endpoints...found 5...(0 seconds)\n| No action taken\n\nSkipping install of existing datasets to \"dbfs:/mnt/dbacademy-datasets/llm-foundation-models/v01-raw\"\n\nValidating the locally installed datasets:\n| listing local files...(5 seconds)\n| removing extra path: /models/models--bert-base-uncased/.no_exist/86b5e0934494bd15c9632b12f734a8a67f723594/...(1 seconds)\n| removing extra path: /models/models--bert-base-uncased/snapshots/86b5e0934494bd15c9632b12f734a8a67f723594/...(0 seconds)\n| removing extra path: /models/models--distilbert-base-uncased/.no_exist/6cdc0aad91f5ae2e6712e91bc7b65d1cf5c05411/...(0 seconds)\n| removing extra path: /models/models--distilbert-base-uncased/snapshots/6cdc0aad91f5ae2e6712e91bc7b65d1cf5c05411/...(0 seconds)\n| removing extra path: /models/models--gpt2-XL/.no_exist/15ea56dee5df4983c59b2538573817e1667135e2/...(0 seconds)\n| removing extra path: /models/models--gpt2-XL/snapshots/15ea56dee5df4983c59b2538573817e1667135e2/...(1 seconds)\n| removing extra path: /models/models--t5-base/snapshots/a9723ea7f1b39c1eae772870f3b547bf6ef7e6c1/...(0 seconds)\n| removing extra path: /models/models/...(0 seconds)\n| fixed 8 issues...(7 seconds total)\n"
     ]
    },
    {
     "output_type": "stream",
     "name": "stdout",
     "output_type": "stream",
     "text": [
      "Importing lab testing framework.\n"
     ]
    },
    {
     "output_type": "stream",
     "name": "stdout",
     "output_type": "stream",
     "text": [
      "\nUsing the \"default\" schema.\n\nPredefined paths variables:\n| DA.paths.working_dir: /dbfs/mnt/dbacademy-users/labuser5381118@vocareum.com/llm-foundation-models\n| DA.paths.user_db:     dbfs:/mnt/dbacademy-users/labuser5381118@vocareum.com/llm-foundation-models/database.db\n| DA.paths.datasets:    /dbfs/mnt/dbacademy-datasets/llm-foundation-models/v01-raw\n\nSetup completed (20 seconds)\n\nThe models developed or used in this course are for demonstration and learning purposes only.\nModels may occasionally output offensive, inaccurate, biased information, or harmful instructions.\n"
     ]
    }
   ],
   "source": [
    "%run ../Includes/Classroom-Setup"
   ]
  },
  {
   "cell_type": "code",
   "execution_count": 0,
   "metadata": {
    "application/vnd.databricks.v1+cell": {
     "cellMetadata": {
      "byteLimit": 2048000,
      "rowLimit": 10000
     },
     "inputWidgets": {},
     "nuid": "4559bd02-18eb-4d81-b40f-a8179ca7596d",
     "showTitle": false,
     "title": ""
    }
   },
   "outputs": [],
   "source": [
    "import numpy as np\n",
    "import matplotlib.pyplot as plt\n",
    "import torch\n",
    "import torch.nn as nn\n",
    "import torch.optim as optim\n",
    "import torchvision\n",
    "import torchvision.transforms as transforms\n",
    "from torch.utils.data import DataLoader\n",
    "import sys\n",
    "import io"
   ]
  },
  {
   "cell_type": "markdown",
   "metadata": {
    "application/vnd.databricks.v1+cell": {
     "cellMetadata": {},
     "inputWidgets": {},
     "nuid": "64d36852-3b9e-4460-b429-ac0e347e5bfa",
     "showTitle": false,
     "title": ""
    }
   },
   "source": [
    "# Section 1 - Quantization\n",
    "\n",
    "We'll illustrate both 4-bit and 8-bit quantization. As for the neural network part, we'll create a simple model and show how to quantize and dequantize its weights. Since we can't download data or train models in this environment, I'll present the code you would use to do it."
   ]
  },
  {
   "cell_type": "markdown",
   "metadata": {
    "application/vnd.databricks.v1+cell": {
     "cellMetadata": {},
     "inputWidgets": {},
     "nuid": "09fc82a3-8489-44ec-8b33-0bbff9f7b967",
     "showTitle": false,
     "title": ""
    }
   },
   "source": [
    "### 1. Quantization of a Single Value\n",
    "Quantization is the process of constraining an input from a large set to output in a smaller set. In the context of deep learning, it's used to reduce the precision of the weights and activations of the neural network models. This can help to reduce the memory footprint and computational intensity of models. Here, we'll start by quantizing a single floating point number.\n",
    "\n",
    "We'll define two functions: one to quantize a value and another to unquantize it. The quantize function will take a floating point number and a number of bits, and will output an integer representation of the input number. The unquantize function will take the integer and the number of bits, and will output the floating point number.\n",
    "\n",
    "The range of input values for the quantize function is between -1 and 1. The range of output values for the unquantize function is also between -1 and 1. The number of bits determines the precision of the quantization. More bits means higher precision, but more memory usage. For this demonstration, we'll use 4 and 8 bits."
   ]
  },
  {
   "cell_type": "code",
   "execution_count": 0,
   "metadata": {
    "application/vnd.databricks.v1+cell": {
     "cellMetadata": {
      "byteLimit": 2048000,
      "rowLimit": 10000
     },
     "inputWidgets": {},
     "nuid": "45a06c63-fd2d-43e2-bc57-58a9d0dd027c",
     "showTitle": false,
     "title": ""
    }
   },
   "outputs": [],
   "source": [
    "# Let's start by defining the quantize and unquantize functions:\n",
    "\n",
    "def quantize(value, bits):\n",
    "    \"\"\"\n",
    "    Quantizes a floating point number to an integer, given a certain number of bits.\n",
    "    The range is from -1.0 to 1.0.\n",
    "    \n",
    "    Args:\n",
    "    value (float): The value to be quantized.\n",
    "    bits (int): The number of bits used for quantization.\n",
    "    \n",
    "    Returns:\n",
    "    int: The quantized value.\n",
    "    \"\"\"\n",
    "    assert -1.0 <= value <= 1.0, \"Value out of range\"\n",
    "    quantized_value = np.round(value * (2**(bits - 1) - 1))\n",
    "    return int(quantized_value)\n",
    "\n",
    "def unquantize(quantized_value, bits):\n",
    "    \"\"\"\n",
    "    Unquantizes an integer back to a floating point number, given the original number of bits.\n",
    "    The range is from -1.0 to 1.0.\n",
    "    \n",
    "    Args:\n",
    "    quantized_value (int): The value to be unquantized.\n",
    "    bits (int): The number of bits used for quantization.\n",
    "    \n",
    "    Returns:\n",
    "    float: The unquantized value.\n",
    "    \"\"\"\n",
    "    value = quantized_value / (2**(bits - 1) - 1)\n",
    "    return float(value)"
   ]
  },
  {
   "cell_type": "code",
   "execution_count": 0,
   "metadata": {
    "application/vnd.databricks.v1+cell": {
     "cellMetadata": {
      "byteLimit": 2048000,
      "rowLimit": 10000
     },
     "inputWidgets": {},
     "nuid": "d028af61-8d81-4d06-bf17-55e7e8db753d",
     "showTitle": false,
     "title": ""
    }
   },
   "outputs": [
    {
     "output_type": "stream",
     "name": "stdout",
     "output_type": "stream",
     "text": [
      "Original Value: 0.5\n----\n4-bit Quantization:4\n4-bit Unquantization: 0.5714285714285714\n----\n8-bit Quantization:64\n8-bit Unquantization: 0.5039370078740157\n"
     ]
    }
   ],
   "source": [
    "# Test the quantize and unquantize functions with 4 and 8 bits\n",
    "value = 0.5\n",
    "quantized_value_4bit = quantize(value, bits=4)\n",
    "unquantized_value_4bit = unquantize(quantized_value_4bit, bits=4)\n",
    "\n",
    "quantized_value_8bit = quantize(value, bits=8)\n",
    "unquantized_value_8bit = unquantize(quantized_value_8bit, bits=8)\n",
    "\n",
    "print(f\"Original Value: {value}\\n----\\n4-bit Quantization:{quantized_value_4bit}\\n4-bit Unquantization: {unquantized_value_4bit}\\n----\\n8-bit Quantization:{quantized_value_8bit}\\n8-bit Unquantization: {unquantized_value_8bit}\")"
   ]
  },
  {
   "cell_type": "markdown",
   "metadata": {
    "application/vnd.databricks.v1+cell": {
     "cellMetadata": {},
     "inputWidgets": {},
     "nuid": "83415a72-a42f-4b55-b387-6868b764e941",
     "showTitle": false,
     "title": ""
    }
   },
   "source": [
    "The quantize and unquantize functions are working as expected. The float value 0.5 was quantized to 4 and 64 for 4-bit and 8-bit precision respectively. Then, the quantized values were unquantized back to approximately 0.5 (with some deviation due to the rounding operation in the quantization process)."
   ]
  },
  {
   "cell_type": "markdown",
   "metadata": {
    "application/vnd.databricks.v1+cell": {
     "cellMetadata": {},
     "inputWidgets": {},
     "nuid": "13df4fed-d683-4ea5-903c-86303c453d6f",
     "showTitle": false,
     "title": ""
    }
   },
   "source": [
    "### 2. Quantization of a Function\n",
    "Now let's demonstrate quantization and unquantization with a function. To simplify, we'll use the sine function as an example. For this demonstration, we'll generate values, quantize them, and then unquantize them. We'll plot the original, quantized, and unquantized values to visualize the effects of quantization.\n",
    "\n",
    "We'll start by generating the values of the sine function, then we'll quantize and unquantize those values. Finally, we'll plot the original, quantized, and unquantized values."
   ]
  },
  {
   "cell_type": "code",
   "execution_count": 0,
   "metadata": {
    "application/vnd.databricks.v1+cell": {
     "cellMetadata": {
      "byteLimit": 2048000,
      "rowLimit": 10000
     },
     "inputWidgets": {},
     "nuid": "67e12130-052b-4c34-ac5f-db9f16b6b3f3",
     "showTitle": false,
     "title": ""
    }
   },
   "outputs": [
    {
     "output_type": "stream",
     "name": "stdout",
     "output_type": "stream",
     "text": [
      "Loss of 4-bit quantization: 0.001522312728708395\nLoss of 8-bit quantization: 4.5269879932343545e-06\n"
     ]
    }
   ],
   "source": [
    "# # Generate values\n",
    "x = np.linspace(-1, 1, 100)\n",
    "y = np.sin(np.pi * x)\n",
    "\n",
    "# Quantize and unquantize values for 4 and 8 bits\n",
    "y_quantized_4bit = np.array([quantize(val, bits=4) for val in y])\n",
    "y_unquantized_4bit = np.array([unquantize(val, bits=4) for val in y_quantized_4bit])\n",
    "\n",
    "y_quantized_8bit = np.array([quantize(val, bits=8) for val in y])\n",
    "y_unquantized_8bit = np.array([unquantize(val, bits=8) for val in y_quantized_8bit])\n",
    "\n",
    "# Calculate quantization loss for 4 and 8 bits\n",
    "loss_4bit = np.mean((y - y_unquantized_4bit)**2)\n",
    "loss_8bit = np.mean((y - y_unquantized_8bit)**2)\n",
    "\n",
    "print(f\"Loss of 4-bit quantization: {loss_4bit}\\nLoss of 8-bit quantization: {loss_8bit}\")"
   ]
  },
  {
   "cell_type": "code",
   "execution_count": 0,
   "metadata": {
    "application/vnd.databricks.v1+cell": {
     "cellMetadata": {
      "byteLimit": 2048000,
      "rowLimit": 10000
     },
     "inputWidgets": {},
     "nuid": "76457e94-344c-4813-a414-b0eeb3119a7d",
     "showTitle": false,
     "title": ""
    }
   },
   "outputs": [
    {
     "output_type": "display_data",
     "data": {
      "image/png": "[encoded data removed]",
      "text/plain": [
       "<Figure size 1000x1200 with 4 Axes>"
      ]
     },
     "metadata": {},
     "output_type": "display_data"
    }
   ],
   "source": [
    "# Plot original, quantized and unquantized values\n",
    "plt.figure(figsize=(10, 12))\n",
    "\n",
    "plt.subplot(4, 1, 1)\n",
    "plt.plot(x, y, label=\"Original\")\n",
    "plt.title(\"Original\")\n",
    "plt.grid(True)\n",
    "\n",
    "plt.subplot(4, 1, 2)\n",
    "plt.scatter(x, y_quantized_4bit, label=\"Quantized 4 bit\", marker=\"s\")\n",
    "plt.legend()\n",
    "plt.title(\"Quantized\")\n",
    "plt.grid(True)\n",
    "\n",
    "plt.subplot(4, 1, 3)\n",
    "plt.scatter(x, y_quantized_8bit, label=\"Quantized 8 bit\", marker=\"s\")\n",
    "plt.legend()\n",
    "plt.title(\"Quantized\")\n",
    "plt.grid(True)\n",
    "\n",
    "plt.subplot(4, 1, 4)\n",
    "plt.plot(x, y_unquantized_4bit, label=\"Unquantized 4 bit\")\n",
    "plt.plot(x, y_unquantized_8bit, label=\"Unquantized 8 bit\")\n",
    "plt.legend()\n",
    "plt.title(\"Unquantized\")\n",
    "plt.grid(True)\n",
    "\n",
    "plt.tight_layout()\n",
    "plt.show()"
   ]
  },
  {
   "cell_type": "markdown",
   "metadata": {
    "application/vnd.databricks.v1+cell": {
     "cellMetadata": {},
     "inputWidgets": {},
     "nuid": "cd22ef46-7a30-40e5-86e1-75461b1fe525",
     "showTitle": false,
     "title": ""
    }
   },
   "source": [
    "The plots illustrate the original sine function, the 4-bit and 8-bit quantized values, and their unquantized counterparts.\n",
    "\n",
    "The 'Quantized' plot clearly shows the \"step\" pattern of the quantized values. The 8-bit quantized values have more levels and are closer to the original function compared to the 4-bit values, which have fewer levels and deviate more.\n",
    "\n",
    "The 'Unquantized' plot shows the values obtained by converting the quantized values back to floating-point numbers. The 8-bit unquantized values are very close to the original function, while the 4-bit unquantized values deviate more due to the reduced precision."
   ]
  },
  {
   "cell_type": "markdown",
   "metadata": {
    "application/vnd.databricks.v1+cell": {
     "cellMetadata": {},
     "inputWidgets": {},
     "nuid": "b75e27dd-3bee-4e08-a91a-14e259659527",
     "showTitle": false,
     "title": ""
    }
   },
   "source": [
    "### 3. Quantization of a Simple Neural Network\n",
    "Next, let's apply quantization to a neural network. We'll create a simple network with one hidden layer, then we'll quantize and dequantize its weights.\n",
    "\n",
    "In PyTorch, [quantization](https://pytorch.org/docs/stable/quantization.html) is achieved using a `QuantStub` and `DeQuantStub` to mark the points in the model where the data needs to be converted to quantized form and converted back to floating point form, respectively. After defining the network with these stubs, we use the `torch.quantization.prepare` and `torch.quantization.convert` functions to quantize the model.\n",
    "\n",
    "The process of quantizing a model in PyTorch involves the following steps:\n",
    "\n",
    "- Define a neural network and mark the points in the model where the data needs to be converted to quantized form and converted back to floating point form. This is done using a `QuantStub` and `DeQuantStub`.\n",
    "- Specify a quantization configuration for the model using `torch.quantization.get_default_qconfig`. This sets up the quantization parameters.\n",
    "- Prepare the model for quantization using `torch.quantization.prepare`. This function replaces specified modules in the model with their quantized counterparts.\n",
    "- Calibrate the model on a calibration dataset. During calibration, the model is run on a calibration dataset and the range of the activations is observed. This is used to determine the parameters for quantization.\n",
    "- Convert the prepared and calibrated model to a quantized version using torch.quantization.convert. This function changes these modules to use quantized weights."
   ]
  },
  {
   "cell_type": "code",
   "execution_count": 0,
   "metadata": {
    "application/vnd.databricks.v1+cell": {
     "cellMetadata": {
      "byteLimit": 2048000,
      "rowLimit": 10000
     },
     "inputWidgets": {},
     "nuid": "fd999b50-347b-4d28-a9e7-a81e689525f5",
     "showTitle": false,
     "title": ""
    }
   },
   "outputs": [],
   "source": [
    "# Define the network architecture\n",
    "class Net(nn.Module):\n",
    "    def __init__(self):\n",
    "        super(Net, self).__init__()\n",
    "        # QuantStub will act as a placeholder for the quantization process, it simulates quantization of inputs to the model.\n",
    "        self.quant = torch.quantization.QuantStub()\n",
    "        \n",
    "        # Define two fully connected layers (aka linear layers) for our simple neural network\n",
    "        self.fc1 = nn.Linear(28 * 28, 128)  # Input size is 28*28 (size of a flattened MNIST image), output size is 128\n",
    "        self.fc2 = nn.Linear(128, 10)  # Input size is 128 (output of previous layer), output size is 10 (for 10 classes)\n",
    "\n",
    "        # DeQuantStub simulates the dequantization of the final output of the model, converting it back to a floating point number.\n",
    "        self.dequant = torch.quantization.DeQuantStub()\n",
    "\n",
    "    def forward(self, x):\n",
    "        # Reshape the input tensor to a vector of size 28*28\n",
    "        x = x.view(-1, 28 * 28)\n",
    "        \n",
    "        # Pass the input through the QuantStub, which will simulate the quantization of the input tensor\n",
    "        x = self.quant(x)\n",
    "        \n",
    "        # Apply the first fully connected layer and ReLU activation function\n",
    "        x = torch.relu(self.fc1(x))\n",
    "        \n",
    "        # Apply the second fully connected layer\n",
    "        x = self.fc2(x)\n",
    "        \n",
    "        # Pass the output through the DeQuantStub, which will simulate the dequantization of the output tensor\n",
    "        x = self.dequant(x)\n",
    "        \n",
    "        return x"
   ]
  },
  {
   "cell_type": "code",
   "execution_count": 0,
   "metadata": {
    "application/vnd.databricks.v1+cell": {
     "cellMetadata": {
      "byteLimit": 2048000,
      "rowLimit": 10000
     },
     "inputWidgets": {},
     "nuid": "53035bc7-f957-4266-ae46-fd500dc3fc8c",
     "showTitle": false,
     "title": ""
    }
   },
   "outputs": [
    {
     "output_type": "stream",
     "name": "stdout",
     "output_type": "stream",
     "text": [
      "Downloading http://yann.lecun.com/exdb/mnist/train-images-idx3-ubyte.gz\nFailed to download (trying next):\n<urlopen error [Errno 101] Network is unreachable>\n\nDownloading https://ossci-datasets.s3.amazonaws.com/mnist/train-images-idx3-ubyte.gz\nDownloading https://ossci-datasets.s3.amazonaws.com/mnist/train-images-idx3-ubyte.gz to /dbfs/mnt/dbacademy-users/labuser5381118@vocareum.com/llm-foundation-models/MNIST/raw/train-images-idx3-ubyte.gz\n"
     ]
    },
    {
     "output_type": "display_data",
     "data": {
      "application/vnd.jupyter.widget-view+json": {
       "model_id": "1933af5df7b7471fbda8dfe88260306c",
       "version_major": 2,
       "version_minor": 0
      },
      "text/plain": [
       "  0%|          | 0/9912422 [00:00<?, ?it/s]"
      ]
     },
     "metadata": {},
     "output_type": "display_data"
    },
    {
     "output_type": "stream",
     "name": "stdout",
     "output_type": "stream",
     "text": [
      "Extracting /dbfs/mnt/dbacademy-users/labuser5381118@vocareum.com/llm-foundation-models/MNIST/raw/train-images-idx3-ubyte.gz to /dbfs/mnt/dbacademy-users/labuser5381118@vocareum.com/llm-foundation-models/MNIST/raw\n\nDownloading http://yann.lecun.com/exdb/mnist/train-labels-idx1-ubyte.gz\nFailed to download (trying next):\n<urlopen error [Errno 101] Network is unreachable>\n\nDownloading https://ossci-datasets.s3.amazonaws.com/mnist/train-labels-idx1-ubyte.gz\nDownloading https://ossci-datasets.s3.amazonaws.com/mnist/train-labels-idx1-ubyte.gz to /dbfs/mnt/dbacademy-users/labuser5381118@vocareum.com/llm-foundation-models/MNIST/raw/train-labels-idx1-ubyte.gz\n"
     ]
    },
    {
     "output_type": "display_data",
     "data": {
      "application/vnd.jupyter.widget-view+json": {
       "model_id": "2f07c17cc480419494fea80bfa12b0a4",
       "version_major": 2,
       "version_minor": 0
      },
      "text/plain": [
       "  0%|          | 0/28881 [00:00<?, ?it/s]"
      ]
     },
     "metadata": {},
     "output_type": "display_data"
    },
    {
     "output_type": "stream",
     "name": "stdout",
     "output_type": "stream",
     "text": [
      "Extracting /dbfs/mnt/dbacademy-users/labuser5381118@vocareum.com/llm-foundation-models/MNIST/raw/train-labels-idx1-ubyte.gz to /dbfs/mnt/dbacademy-users/labuser5381118@vocareum.com/llm-foundation-models/MNIST/raw\n\nDownloading http://yann.lecun.com/exdb/mnist/t10k-images-idx3-ubyte.gz\nFailed to download (trying next):\n<urlopen error [Errno 101] Network is unreachable>\n\nDownloading https://ossci-datasets.s3.amazonaws.com/mnist/t10k-images-idx3-ubyte.gz\nDownloading https://ossci-datasets.s3.amazonaws.com/mnist/t10k-images-idx3-ubyte.gz to /dbfs/mnt/dbacademy-users/labuser5381118@vocareum.com/llm-foundation-models/MNIST/raw/t10k-images-idx3-ubyte.gz\n"
     ]
    },
    {
     "output_type": "display_data",
     "data": {
      "application/vnd.jupyter.widget-view+json": {
       "model_id": "ed4a26c893ee4564a8ce920835ebe040",
       "version_major": 2,
       "version_minor": 0
      },
      "text/plain": [
       "  0%|          | 0/1648877 [00:00<?, ?it/s]"
      ]
     },
     "metadata": {},
     "output_type": "display_data"
    },
    {
     "output_type": "stream",
     "name": "stdout",
     "output_type": "stream",
     "text": [
      "Extracting /dbfs/mnt/dbacademy-users/labuser5381118@vocareum.com/llm-foundation-models/MNIST/raw/t10k-images-idx3-ubyte.gz to /dbfs/mnt/dbacademy-users/labuser5381118@vocareum.com/llm-foundation-models/MNIST/raw\n\nDownloading http://yann.lecun.com/exdb/mnist/t10k-labels-idx1-ubyte.gz\nFailed to download (trying next):\n<urlopen error [Errno 101] Network is unreachable>\n\nDownloading https://ossci-datasets.s3.amazonaws.com/mnist/t10k-labels-idx1-ubyte.gz\nDownloading https://ossci-datasets.s3.amazonaws.com/mnist/t10k-labels-idx1-ubyte.gz to /dbfs/mnt/dbacademy-users/labuser5381118@vocareum.com/llm-foundation-models/MNIST/raw/t10k-labels-idx1-ubyte.gz\n"
     ]
    },
    {
     "output_type": "display_data",
     "data": {
      "application/vnd.jupyter.widget-view+json": {
       "model_id": "341926f1824e419ba45bad0e0f231e0b",
       "version_major": 2,
       "version_minor": 0
      },
      "text/plain": [
       "  0%|          | 0/4542 [00:00<?, ?it/s]"
      ]
     },
     "metadata": {},
     "output_type": "display_data"
    },
    {
     "output_type": "stream",
     "name": "stdout",
     "output_type": "stream",
     "text": [
      "Extracting /dbfs/mnt/dbacademy-users/labuser5381118@vocareum.com/llm-foundation-models/MNIST/raw/t10k-labels-idx1-ubyte.gz to /dbfs/mnt/dbacademy-users/labuser5381118@vocareum.com/llm-foundation-models/MNIST/raw\n\n"
     ]
    }
   ],
   "source": [
    "# Load the MNIST dataset\n",
    "transform = transforms.Compose([transforms.ToTensor(), transforms.Normalize((0.1307,), (0.3081,))])\n",
    "trainset = torchvision.datasets.MNIST(root=DA.paths.working_dir, train=True, download=True, transform=transform)\n",
    "trainloader = DataLoader(trainset, batch_size=64, shuffle=True)\n",
    "\n",
    "# Define loss function and optimizer\n",
    "net = Net()\n",
    "criterion = nn.CrossEntropyLoss()\n",
    "optimizer = optim.SGD(net.parameters(), lr=0.01)"
   ]
  },
  {
   "cell_type": "code",
   "execution_count": 0,
   "metadata": {
    "application/vnd.databricks.v1+cell": {
     "cellMetadata": {
      "byteLimit": 2048000,
      "rowLimit": 10000
     },
     "inputWidgets": {},
     "nuid": "6b7f29fe-3f7b-477c-b0f2-0de832a0d6d3",
     "showTitle": false,
     "title": ""
    }
   },
   "outputs": [
    {
     "output_type": "stream",
     "name": "stdout",
     "output_type": "stream",
     "text": [
      "[1,   200] loss: 1.175\n[1,   400] loss: 0.509\n[1,   600] loss: 0.410\n[1,   800] loss: 0.365\n[2,   200] loss: 0.322\n[2,   400] loss: 0.303\n[2,   600] loss: 0.302\n[2,   800] loss: 0.286\nFinished Training\n"
     ]
    }
   ],
   "source": [
    "# Train the network\n",
    "for epoch in range(2):  # loop over the dataset multiple times\n",
    "    running_loss = 0.0\n",
    "    for i, data in enumerate(trainloader, 0):\n",
    "        # get the inputs; data is a list of [inputs, labels]\n",
    "        inputs, labels = data\n",
    "\n",
    "        # zero the parameter gradients\n",
    "        optimizer.zero_grad()\n",
    "\n",
    "        # forward + backward + optimize\n",
    "        outputs = net(inputs)\n",
    "        loss = criterion(outputs, labels)\n",
    "        loss.backward()\n",
    "        optimizer.step()\n",
    "\n",
    "        # print statistics\n",
    "        running_loss += loss.item()\n",
    "        if i % 200 == 199:    # print every 200 mini-batches\n",
    "            print(\"[%d, %5d] loss: %.3f\" %\n",
    "                  (epoch + 1, i + 1, running_loss / 200))\n",
    "            running_loss = 0.0\n",
    "\n",
    "print(\"Finished Training\")"
   ]
  },
  {
   "cell_type": "code",
   "execution_count": 0,
   "metadata": {
    "application/vnd.databricks.v1+cell": {
     "cellMetadata": {
      "byteLimit": 2048000,
      "rowLimit": 10000
     },
     "inputWidgets": {},
     "nuid": "d7daba91-9f4c-44c6-aef6-2bcc509d52af",
     "showTitle": false,
     "title": ""
    }
   },
   "outputs": [
    {
     "output_type": "stream",
     "name": "stderr",
     "output_type": "stream",
     "text": [
      "/databricks/python/lib/python3.10/site-packages/torch/ao/quantization/observer.py:1204: UserWarning: must run observer before calling calculate_qparams.                                    Returning default scale and zero point \n  warnings.warn(\n"
     ]
    }
   ],
   "source": [
    "# Specify quantization configuration\n",
    "net.qconfig = torch.ao.quantization.get_default_qconfig(\"onednn\")\n",
    "\n",
    "# Prepare the model for static quantization. This inserts observers in the model that will observe activation tensors during calibration.\n",
    "net_prepared = torch.quantization.prepare(net)\n",
    "\n",
    "# Now we convert the model to a quantized version.\n",
    "net_quantized = torch.quantization.convert(net_prepared)\n",
    "\n",
    "# Once the model is quantized, it can be used for inference in the same way as the unquantized model, but it will use less memory and potentially have faster inference times, at the cost of a possible decrease in accuracy."
   ]
  },
  {
   "cell_type": "code",
   "execution_count": 0,
   "metadata": {
    "application/vnd.databricks.v1+cell": {
     "cellMetadata": {
      "byteLimit": 2048000,
      "rowLimit": 10000
     },
     "inputWidgets": {},
     "nuid": "2c06cad7-e78b-48e6-adaf-718e86a6970b",
     "showTitle": false,
     "title": ""
    }
   },
   "outputs": [
    {
     "output_type": "stream",
     "name": "stdout",
     "output_type": "stream",
     "text": [
      "Size of the original model:  408576\nSize of the quantized model:  108572\nThe quantized model is 27.0% the size of the original model\n"
     ]
    }
   ],
   "source": [
    "# Let's look at the sizes of these two models on disk and see how much we save by quantization\n",
    "buf = io.BytesIO()\n",
    "torch.save(net.state_dict(), buf)\n",
    "size_original = sys.getsizeof(buf.getvalue())\n",
    "\n",
    "buf = io.BytesIO()\n",
    "torch.save(net_quantized.state_dict(), buf)\n",
    "size_quantized = sys.getsizeof(buf.getvalue())\n",
    "\n",
    "print(\"Size of the original model: \", size_original)\n",
    "print(\"Size of the quantized model: \", size_quantized)\n",
    "print(f\"The quantized model is {np.round(100.*(size_quantized )/ size_original)}% the size of the original model\")"
   ]
  },
  {
   "cell_type": "code",
   "execution_count": 0,
   "metadata": {
    "application/vnd.databricks.v1+cell": {
     "cellMetadata": {
      "byteLimit": 2048000,
      "rowLimit": 10000
     },
     "inputWidgets": {},
     "nuid": "d1a98efd-f476-43bb-997e-5861f3a1e916",
     "showTitle": false,
     "title": ""
    }
   },
   "outputs": [
    {
     "output_type": "stream",
     "name": "stdout",
     "output_type": "stream",
     "text": [
      "Original Network Layer: fc1.weight\ntensor([[ 1.5743e-02,  3.4109e-02,  1.4325e-02,  ..., -2.4922e-02,\n         -1.5986e-02,  6.4373e-03],\n        [ 1.9459e-03,  1.7184e-02,  8.8843e-03,  ...,  3.4305e-02,\n         -9.7882e-03,  2.6398e-03],\n        [ 2.7140e-02, -2.5785e-02,  1.3935e-02,  ..., -7.3633e-03,\n          2.8729e-02, -2.4027e-02],\n        ...,\n        [ 3.7604e-03, -1.4078e-02, -1.3944e-02,  ...,  1.7237e-03,\n          4.0080e-04,  1.4958e-02],\n        [ 1.6119e-02,  2.2101e-02, -2.0608e-02,  ...,  3.2613e-02,\n         -1.2001e-02, -1.6029e-02],\n        [-2.1372e-02, -4.7662e-04,  1.7498e-02,  ...,  2.3867e-05,\n          2.3390e-02, -1.8204e-02]])\nOriginal Network Layer: fc1.bias\ntensor([-0.0138,  0.0231, -0.0282, -0.0286, -0.0122,  0.0322, -0.0095, -0.0234,\n         0.0338, -0.0237, -0.0224,  0.0436, -0.0143, -0.0154,  0.0030, -0.0101,\n        -0.0145,  0.0322,  0.0405,  0.0376, -0.0333, -0.0228,  0.0164,  0.0099,\n        -0.0263,  0.0041,  0.0071,  0.0037,  0.0400,  0.0035,  0.0020, -0.0207,\n         0.0286, -0.0253, -0.0075,  0.0070,  0.0297, -0.0007,  0.0196, -0.0142,\n         0.0101,  0.0105,  0.0266, -0.0165,  0.0244,  0.0366,  0.0124,  0.0166,\n        -0.0066,  0.0196,  0.0295, -0.0281, -0.0043, -0.0122,  0.0037, -0.0327,\n        -0.0014,  0.0170,  0.0177,  0.0145,  0.0164,  0.0014, -0.0287,  0.0387,\n         0.0023,  0.0251,  0.0297,  0.0276, -0.0263,  0.0027, -0.0225, -0.0273,\n        -0.0034, -0.0016,  0.0406,  0.0131,  0.0341,  0.0291,  0.0218, -0.0217,\n        -0.0150,  0.0247,  0.0309,  0.0489, -0.0057,  0.0098, -0.0056,  0.0347,\n         0.0123, -0.0160,  0.0141,  0.0268,  0.0301,  0.0258, -0.0248, -0.0282,\n         0.0240, -0.0142, -0.0257, -0.0130,  0.0152,  0.0374, -0.0304,  0.0009,\n         0.0304,  0.0322,  0.0258, -0.0050, -0.0166,  0.0177,  0.0328, -0.0113,\n        -0.0069,  0.0054, -0.0166, -0.0159,  0.0167, -0.0092, -0.0247,  0.0029,\n         0.0184, -0.0252,  0.0361, -0.0300,  0.0265,  0.0038,  0.0305,  0.0301])\nOriginal Network Layer: fc2.weight\ntensor([[ 0.1044,  0.0352, -0.0978,  ...,  0.0507,  0.0570,  0.0612],\n        [ 0.0814, -0.0898, -0.1101,  ..., -0.0010, -0.1428,  0.1401],\n        [-0.0323,  0.0711, -0.1125,  ...,  0.0735,  0.0575,  0.0812],\n        ...,\n        [-0.0562,  0.0013,  0.0037,  ..., -0.0246, -0.1046, -0.1448],\n        [-0.0490, -0.0883,  0.0094,  ...,  0.0352,  0.1293,  0.0948],\n        [ 0.0198,  0.0253, -0.0067,  ...,  0.0875,  0.0880, -0.1483]])\nOriginal Network Layer: fc2.bias\ntensor([-0.0489,  0.0797,  0.0459, -0.0178, -0.0474,  0.0471, -0.0880,  0.0716,\n        -0.0465,  0.0345])\n"
     ]
    }
   ],
   "source": [
    "# Print out the weights of the original network\n",
    "for name, param in net.named_parameters():\n",
    "    print(\"Original Network Layer:\", name)\n",
    "    print(param.data)"
   ]
  },
  {
   "cell_type": "code",
   "execution_count": 0,
   "metadata": {
    "application/vnd.databricks.v1+cell": {
     "cellMetadata": {
      "byteLimit": 2048000,
      "rowLimit": 10000
     },
     "inputWidgets": {},
     "nuid": "722b83e5-49b3-49ac-8059-450df1caa2d8",
     "showTitle": false,
     "title": ""
    }
   },
   "outputs": [
    {
     "output_type": "stream",
     "name": "stdout",
     "output_type": "stream",
     "text": [
      "Quantized Network Layer: fc1\nWeight:\ntensor([[ 0.0158,  0.0341,  0.0143,  ..., -0.0250, -0.0161,  0.0066],\n        [ 0.0019,  0.0170,  0.0089,  ...,  0.0344, -0.0097,  0.0027],\n        [ 0.0272, -0.0258,  0.0141,  ..., -0.0075,  0.0286, -0.0239],\n        ...,\n        [ 0.0039, -0.0141, -0.0141,  ...,  0.0018,  0.0004,  0.0148],\n        [ 0.0162,  0.0221, -0.0208,  ...,  0.0325, -0.0117, -0.0162],\n        [-0.0211, -0.0006,  0.0177,  ...,  0.0000,  0.0234, -0.0183]],\n       size=(128, 784), dtype=torch.qint8,\n       quantization_scheme=torch.per_channel_affine,\n       scale=tensor([0.0004, 0.0004, 0.0005, 0.0006, 0.0004, 0.0004, 0.0004, 0.0005, 0.0005,\n        0.0006, 0.0005, 0.0005, 0.0003, 0.0007, 0.0006, 0.0005, 0.0003, 0.0006,\n        0.0006, 0.0003, 0.0004, 0.0006, 0.0008, 0.0004, 0.0006, 0.0004, 0.0006,\n        0.0004, 0.0005, 0.0004, 0.0005, 0.0005, 0.0005, 0.0004, 0.0004, 0.0005,\n        0.0005, 0.0006, 0.0005, 0.0006, 0.0004, 0.0004, 0.0004, 0.0006, 0.0004,\n        0.0007, 0.0004, 0.0004, 0.0006, 0.0004, 0.0005, 0.0004, 0.0003, 0.0004,\n        0.0005, 0.0004, 0.0005, 0.0005, 0.0005, 0.0004, 0.0005, 0.0005, 0.0004,\n        0.0005, 0.0006, 0.0004, 0.0004, 0.0005, 0.0005, 0.0003, 0.0004, 0.0007,\n        0.0003, 0.0005, 0.0004, 0.0004, 0.0005, 0.0005, 0.0005, 0.0006, 0.0005,\n        0.0005, 0.0005, 0.0005, 0.0005, 0.0003, 0.0008, 0.0005, 0.0005, 0.0005,\n        0.0006, 0.0005, 0.0004, 0.0005, 0.0004, 0.0006, 0.0006, 0.0007, 0.0005,\n        0.0005, 0.0004, 0.0005, 0.0003, 0.0003, 0.0005, 0.0005, 0.0005, 0.0005,\n        0.0005, 0.0004, 0.0005, 0.0004, 0.0004, 0.0005, 0.0005, 0.0005, 0.0006,\n        0.0003, 0.0005, 0.0004, 0.0006, 0.0005, 0.0004, 0.0006, 0.0004, 0.0004,\n        0.0006, 0.0006], dtype=torch.float64),\n       zero_point=tensor([0, 0, 0, 0, 0, 0, 0, 0, 0, 0, 0, 0, 0, 0, 0, 0, 0, 0, 0, 0, 0, 0, 0, 0,\n        0, 0, 0, 0, 0, 0, 0, 0, 0, 0, 0, 0, 0, 0, 0, 0, 0, 0, 0, 0, 0, 0, 0, 0,\n        0, 0, 0, 0, 0, 0, 0, 0, 0, 0, 0, 0, 0, 0, 0, 0, 0, 0, 0, 0, 0, 0, 0, 0,\n        0, 0, 0, 0, 0, 0, 0, 0, 0, 0, 0, 0, 0, 0, 0, 0, 0, 0, 0, 0, 0, 0, 0, 0,\n        0, 0, 0, 0, 0, 0, 0, 0, 0, 0, 0, 0, 0, 0, 0, 0, 0, 0, 0, 0, 0, 0, 0, 0,\n        0, 0, 0, 0, 0, 0, 0, 0]),\n       axis=0)\nBias:\n<bound method Linear.bias of QuantizedLinear(in_features=784, out_features=128, scale=1.0, zero_point=0, qscheme=torch.per_channel_affine)>\nQuantized Network Layer: fc2\nWeight:\ntensor([[ 0.1044,  0.0348, -0.0974,  ...,  0.0504,  0.0574,  0.0609],\n        [ 0.0817, -0.0894, -0.1094,  ..., -0.0015, -0.1434,  0.1403],\n        [-0.0323,  0.0711, -0.1131,  ...,  0.0743,  0.0582,  0.0808],\n        ...,\n        [-0.0559,  0.0017,  0.0035,  ..., -0.0245, -0.1048, -0.1450],\n        [-0.0493, -0.0884,  0.0102,  ...,  0.0357,  0.1293,  0.0953],\n        [ 0.0197,  0.0247, -0.0066,  ...,  0.0871,  0.0888, -0.1479]],\n       size=(10, 128), dtype=torch.qint8,\n       quantization_scheme=torch.per_channel_affine,\n       scale=tensor([0.0017, 0.0015, 0.0016, 0.0017, 0.0016, 0.0017, 0.0017, 0.0017, 0.0017,\n        0.0016], dtype=torch.float64),\n       zero_point=tensor([0, 0, 0, 0, 0, 0, 0, 0, 0, 0]), axis=0)\nBias:\n<bound method Linear.bias of QuantizedLinear(in_features=128, out_features=10, scale=1.0, zero_point=0, qscheme=torch.per_channel_affine)>\n"
     ]
    }
   ],
   "source": [
    "# Print out the weights of the quantized network\n",
    "for name, module in net_quantized.named_modules():\n",
    "    if isinstance(module, nn.quantized.Linear):\n",
    "        print(\"Quantized Network Layer:\", name)\n",
    "        \n",
    "        print(\"Weight:\")\n",
    "        print(module.weight())\n",
    "        \n",
    "        print(\"Bias:\")\n",
    "        print(module.bias)\n"
   ]
  },
  {
   "cell_type": "markdown",
   "metadata": {
    "application/vnd.databricks.v1+cell": {
     "cellMetadata": {},
     "inputWidgets": {},
     "nuid": "565d04bb-22ed-4dfe-8767-e7fd76ff8f15",
     "showTitle": false,
     "title": ""
    }
   },
   "source": [
    "#### Comparing a Quantized and Non-Quantized Model\n",
    "\n",
    "Here is a summary of the details and a comparison with the original model:\n",
    "\n",
    "- `Tensor Values`: In the quantized model, these are quantized values of the weights and biases, compared to the original model which stores these in floating point precision. These values are used in the computations performed by the layer, and they directly affect the layer's output.\n",
    "- `Size`: This is the shape of the weight or bias tensor and it should be the same in both the original and quantized model. In a fully-connected layer, this corresponds to the number of neurons in the current layer and the number of neurons in the previous layer.\n",
    "- `Dtype`: In the original model, the data type of the tensor values is usually torch.float32 (32-bit floating point), whereas in the quantized model it is a quantized data type like torch.qint8 (8-bit quantized integer). This reduces the memory usage and computational requirements of the model.\n",
    "- `Quantization_scheme`: This is specific to the quantized model. It is the type of quantization used, for example, torch.per_channel_affine means different channels (e.g., neurons in a layer) can have different scale and zero_point values.\n",
    "- `Scale & Zero Point`: These are parameters of the quantization process and are specific to the quantized model. They are used to convert between the quantized and dequantized forms of the tensor values.\n",
    "- `Axis`: This indicates the dimension along which the quantization parameters vary. This is also specific to the quantized model.\n",
    "- `Requires_grad`: This indicates whether the tensor is a model parameter that is updated during training. It should be the same in both the original and quantized models."
   ]
  },
  {
   "cell_type": "code",
   "execution_count": 0,
   "metadata": {
    "application/vnd.databricks.v1+cell": {
     "cellMetadata": {
      "byteLimit": 2048000,
      "rowLimit": 10000
     },
     "inputWidgets": {},
     "nuid": "4c0cee67-78d0-4d15-8419-cf9fde5e1817",
     "showTitle": false,
     "title": ""
    }
   },
   "outputs": [
    {
     "output_type": "stream",
     "name": "stdout",
     "output_type": "stream",
     "text": [
      "Output from original model: tensor([[-0.6263, -0.1748,  1.0647,  0.0740, -0.8856,  1.0366, -0.7912, -0.2698,\n          0.7757, -0.9185]])\nOutput from quantized model: tensor([[1., 0., 1., 0., 0., 0., 0., 0., 1., 0.]])\n"
     ]
    }
   ],
   "source": [
    "# Suppose we have some input data\n",
    "input_data = torch.randn(1, 28 * 28)\n",
    "\n",
    "# We can pass this data through both the original and quantized models\n",
    "output_original = net(input_data)\n",
    "output_quantized = net_quantized(input_data)\n",
    "\n",
    "# The outputs should be similar, because the quantized model is a lower-precision\n",
    "# approximation of the original model. However, they won't be exactly the same\n",
    "# because of the quantization process.\n",
    "print(\"Output from original model:\", output_original.data)\n",
    "print(\"Output from quantized model:\", output_quantized.data)"
   ]
  },
  {
   "cell_type": "code",
   "execution_count": 0,
   "metadata": {
    "application/vnd.databricks.v1+cell": {
     "cellMetadata": {
      "byteLimit": 2048000,
      "rowLimit": 10000
     },
     "inputWidgets": {},
     "nuid": "227b3b46-70bd-486f-bccc-e0e1a579dc7a",
     "showTitle": false,
     "title": ""
    }
   },
   "outputs": [
    {
     "output_type": "stream",
     "name": "stdout",
     "output_type": "stream",
     "text": [
      "Quantization error: tensor(0.6066, grad_fn=<MeanBackward0>)\n"
     ]
    }
   ],
   "source": [
    "# The difference between the outputs is an indication of the \"quantization error\",\n",
    "# which is the error introduced by the quantization process.\n",
    "quantization_error = (output_original - output_quantized).abs().mean()\n",
    "print(\"Quantization error:\", quantization_error)"
   ]
  },
  {
   "cell_type": "code",
   "execution_count": 0,
   "metadata": {
    "application/vnd.databricks.v1+cell": {
     "cellMetadata": {
      "byteLimit": 2048000,
      "rowLimit": 10000
     },
     "inputWidgets": {},
     "nuid": "09aa3354-480a-4059-a0cf-47e3492e4e13",
     "showTitle": false,
     "title": ""
    }
   },
   "outputs": [
    {
     "output_type": "stream",
     "name": "stdout",
     "output_type": "stream",
     "text": [
      "Size of one weight in original model: 4 bytes (32bit)\nSize of one weight in quantized model: 1 byte (8bit)\n"
     ]
    }
   ],
   "source": [
    "# The weights of the original model are stored in floating point precision, so they\n",
    "# take up more memory than the quantized weights. We can check this using the\n",
    "# `element_size` method, which returns the size in bytes of one element of the tensor.\n",
    "print(f\"Size of one weight in original model: {net.fc1.weight.element_size()} bytes (32bit)\")\n",
    "print(f\"Size of one weight in quantized model: {net_quantized.fc1.weight().element_size()} byte (8bit)\")"
   ]
  },
  {
   "cell_type": "markdown",
   "metadata": {
    "application/vnd.databricks.v1+cell": {
     "cellMetadata": {},
     "inputWidgets": {},
     "nuid": "b392c6d2-b2e5-4550-ba00-0cbb511f8e72",
     "showTitle": false,
     "title": ""
    }
   },
   "source": [
    "\n",
    "This example shows how the quantized model can be used in the same way as the original model. It also demonstrates the trade-off between precision and memory usage/computation speed that comes with quantization. The quantized model uses less memory and is faster to compute, but the outputs are not exactly the same as the original model due to the quantization error."
   ]
  },
  {
   "cell_type": "markdown",
   "metadata": {
    "application/vnd.databricks.v1+cell": {
     "cellMetadata": {},
     "inputWidgets": {},
     "nuid": "9ab5d682-d3dc-4608-9000-7a8d64cec09e",
     "showTitle": false,
     "title": ""
    }
   },
   "source": [
    "&copy; 2023 Databricks, Inc. All rights reserved.<br/>\n",
    "Apache, Apache Spark, Spark and the Spark logo are trademarks of the <a href=\"https://www.apache.org/\">Apache Software Foundation</a>.<br/>\n",
    "<br/>\n",
    "<a href=\"https://databricks.com/privacy-policy\">Privacy Policy</a> | <a href=\"https://databricks.com/terms-of-use\">Terms of Use</a> | <a href=\"https://help.databricks.com/\">Support</a>"
   ]
  }
 ],
 "metadata": {
  "application/vnd.databricks.v1+notebook": {
   "dashboards": [],
   "language": "python",
   "notebookMetadata": {
    "pythonIndentUnit": 2
   },
   "notebookName": "LLM 03 - Deployment of LLMs",
   "widgets": {}
  }
 },
 "nbformat": 4,
 "nbformat_minor": 0
}
