{
 "cells": [
  {
   "cell_type": "markdown",
   "metadata": {
    "application/vnd.databricks.v1+cell": {
     "cellMetadata": {},
     "inputWidgets": {},
     "nuid": "a47913b3-00b5-468c-8380-4d31c653b273",
     "showTitle": false,
     "title": ""
    }
   },
   "source": [
    "\n",
    "<div style=\"text-align: center; line-height: 0; padding-top: 9px;\">\n",
    "  <img src=\"https://databricks.com/wp-content/uploads/2018/03/db-academy-rgb-1200px.png\" alt=\"Databricks Learning\" style=\"width: 600px\">\n",
    "</div>"
   ]
  },
  {
   "cell_type": "markdown",
   "metadata": {
    "application/vnd.databricks.v1+cell": {
     "cellMetadata": {},
     "inputWidgets": {},
     "nuid": "2eaf80e2-9af8-4ff7-ab1b-590d3ca2ae05",
     "showTitle": false,
     "title": ""
    }
   },
   "source": [
    "\n",
    "# Diving into the Transformer - Building your own Foundation LLM\n",
    "\n",
    "This lesson introduces the underlying sturcture of transformers from token management to the layers in a decoder, to comparing smaller and larger models. We will build up all of the steps needed to create our foundation model before training. You will see how the layers are constructed, and how the next word is chosen. \n",
    "\n",
    "### ![Dolly](https://files.training.databricks.com/images/llm/dolly_small.png) Learning Objectives\n",
    "1. Identify the key structures and functions in decoder transformers\n",
    "1. Analyze the effect of hyperparameter changes (such as embedding dimension) on the size of the LLM\n",
    "1. Compare the different performance of models with different model architectures"
   ]
  },
  {
   "cell_type": "markdown",
   "metadata": {
    "application/vnd.databricks.v1+cell": {
     "cellMetadata": {},
     "inputWidgets": {},
     "nuid": "c3c89436-0761-4a49-a61e-9c39ce222705",
     "showTitle": false,
     "title": ""
    }
   },
   "source": [
    "\n",
    "## Classroom Setup"
   ]
  },
  {
   "cell_type": "code",
   "execution_count": 0,
   "metadata": {
    "application/vnd.databricks.v1+cell": {
     "cellMetadata": {
      "byteLimit": 2048000,
      "rowLimit": 10000
     },
     "inputWidgets": {},
     "nuid": "e94313b7-7a80-4aa0-b953-f39dbecd9117",
     "showTitle": false,
     "title": ""
    }
   },
   "outputs": [
    {
     "output_type": "stream",
     "name": "stdout",
     "output_type": "stream",
     "text": [
      "\u001B[43mNote: you may need to restart the kernel using dbutils.library.restartPython() to use updated packages.\u001B[0m\n\u001B[43mNote: you may need to restart the kernel using dbutils.library.restartPython() to use updated packages.\u001B[0m\n"
     ]
    },
    {
     "output_type": "stream",
     "name": "stdout",
     "output_type": "stream",
     "text": [
      "Resetting the learning environment:\n| enumerating serving endpoints...found 5...(0 seconds)\n| No action taken\n\nSkipping install of existing datasets to \"dbfs:/mnt/dbacademy-datasets/llm-foundation-models/v01-raw\"\n\nValidating the locally installed datasets:\n| listing local files...(4 seconds)\n| validation completed...(4 seconds total)\n"
     ]
    },
    {
     "output_type": "stream",
     "name": "stdout",
     "output_type": "stream",
     "text": [
      "Importing lab testing framework.\n"
     ]
    },
    {
     "output_type": "stream",
     "name": "stdout",
     "output_type": "stream",
     "text": [
      "\nUsing the \"default\" schema.\n\nPredefined paths variables:\n| DA.paths.working_dir: /dbfs/mnt/dbacademy-users/labuser5531457@vocareum.com/llm-foundation-models\n| DA.paths.user_db:     dbfs:/mnt/dbacademy-users/labuser5531457@vocareum.com/llm-foundation-models/database.db\n| DA.paths.datasets:    /dbfs/mnt/dbacademy-datasets/llm-foundation-models/v01-raw\n\nSetup completed (14 seconds)\n\nThe models developed or used in this course are for demonstration and learning purposes only.\nModels may occasionally output offensive, inaccurate, biased information, or harmful instructions.\n"
     ]
    },
    {
     "output_type": "execute_result",
     "data": {
      "text/plain": [
       "device(type='cpu')"
      ]
     },
     "execution_count": 13,
     "metadata": {},
     "output_type": "execute_result"
    }
   ],
   "source": [
    "%run ../Includes/Classroom-Setup"
   ]
  },
  {
   "cell_type": "code",
   "execution_count": 0,
   "metadata": {
    "application/vnd.databricks.v1+cell": {
     "cellMetadata": {
      "byteLimit": 2048000,
      "rowLimit": 10000
     },
     "inputWidgets": {},
     "nuid": "964738c0-44e3-4c84-a14f-e8d06fc006a5",
     "showTitle": false,
     "title": ""
    }
   },
   "outputs": [],
   "source": [
    "# Import the necessary libraries\n",
    "import torch\n",
    "import torch.nn as nn\n",
    "import torch.nn.functional as F\n",
    "import math\n",
    "import time\n",
    "import numpy as np\n",
    "import matplotlib.pyplot as plt\n",
    "import seaborn"
   ]
  },
  {
   "cell_type": "markdown",
   "metadata": {
    "application/vnd.databricks.v1+cell": {
     "cellMetadata": {},
     "inputWidgets": {},
     "nuid": "12b7cfb9-2bef-4818-bbdd-3ae5ce2a1264",
     "showTitle": false,
     "title": ""
    }
   },
   "source": [
    "# Section 1: Encoding Natural Language - Word Embedding and Positional Encoding\n",
    "\n",
    "In this section we'll look at how to take a natural language input and convert it to the form we'll need for our transformer."
   ]
  },
  {
   "cell_type": "code",
   "execution_count": 0,
   "metadata": {
    "application/vnd.databricks.v1+cell": {
     "cellMetadata": {
      "byteLimit": 2048000,
      "rowLimit": 10000
     },
     "inputWidgets": {},
     "nuid": "905ca5ea-5ff4-4da5-bdd9-4f3f2ff2c4d2",
     "showTitle": false,
     "title": ""
    }
   },
   "outputs": [
    {
     "output_type": "stream",
     "name": "stdout",
     "output_type": "stream",
     "text": [
      "{'jumps': 0, 'lazy': 1, 'brown': 2, 'quick': 3, 'over': 4, 'the': 5, 'fox': 6, 'dog': 7, 'The': 8}\ntensor([8, 3, 2, 6, 0, 4, 5, 1, 7])\ntensor([[-0.0515, -1.8917,  0.0078,  1.3176,  0.4592, -0.3798,  0.0429,  0.1111,\n          0.9339,  1.2077, -0.2159, -1.0532,  0.5861,  1.5419, -0.2251,  1.2767],\n        [ 0.0782, -0.6380, -0.1198, -0.5480, -0.5572, -1.2763, -0.2228, -2.3479,\n          0.2710, -0.4184,  1.1327, -0.4629,  1.3180,  0.9082,  1.4976,  2.3175],\n        [-1.5287,  0.4329,  0.6520,  0.7494,  0.4666,  0.7857, -0.2042, -1.8754,\n         -0.4478, -0.7747,  1.0293, -0.0451, -0.4826,  1.8307, -2.2672, -1.7641],\n        [-0.0454,  1.0756, -0.2979, -0.9057,  0.7728,  0.3250,  0.2332,  0.7699,\n          0.0838,  1.1313, -0.0314, -1.8232,  0.7872, -0.3612, -0.2185,  1.0266],\n        [-1.7183,  0.9740,  0.0874,  1.3321,  0.4849, -1.5942,  0.2114,  0.1693,\n         -1.3019, -1.1783,  0.4755,  0.1373,  0.1468, -0.7167, -0.7808,  0.9856],\n        [ 1.0252, -0.1348,  0.1204, -0.1475, -0.8186,  1.1622, -1.5715, -1.6081,\n         -1.1572,  0.2174, -1.6887, -1.2527,  0.2107,  0.5659, -0.0749, -0.5223],\n        [-0.1853,  1.0230, -1.4194, -0.0044,  1.2787, -0.2815,  0.8376, -1.8420,\n         -0.2988,  0.6928, -0.1050, -0.0162,  0.8708,  1.2424,  1.4099,  0.5434],\n        [-0.6644,  1.3132, -0.1746,  0.1794,  0.3541,  0.8743, -0.4326,  0.7675,\n         -1.1237,  0.5538,  0.9163,  0.2106, -0.1269, -1.6832,  0.0461, -0.5237],\n        [-0.5479, -0.4548, -0.3056, -0.3748, -1.6969, -0.2827,  0.3319,  0.0669,\n          0.5699,  0.1398,  2.4839, -0.6835,  1.8617,  2.2577, -0.4084,  1.0466]],\n       grad_fn=<EmbeddingBackward0>)\n"
     ]
    }
   ],
   "source": [
    "# Define a sentence and a simple word2id mapping\n",
    "sentence = \"The quick brown fox jumps over the lazy dog\"\n",
    "word2id = {word: i for i, word in enumerate(set(sentence.split()))}\n",
    "print(word2id)\n",
    "# Convert text to indices\n",
    "input_ids = torch.tensor([word2id[word] for word in sentence.split()])\n",
    "print(input_ids)\n",
    "# Define a simple word embedding function\n",
    "def get_word_embeddings(input_ids, embedding_size):\n",
    "    embedding_layer = nn.Embedding(input_ids.max() + 1, embedding_size)\n",
    "    return embedding_layer(input_ids)\n",
    "\n",
    "\n",
    "# Get word embeddings\n",
    "embedding_size = 16  # Size of the word embeddings\n",
    "word_embeddings = get_word_embeddings(input_ids, embedding_size)\n",
    "print(word_embeddings)"
   ]
  },
  {
   "cell_type": "code",
   "execution_count": 0,
   "metadata": {
    "application/vnd.databricks.v1+cell": {
     "cellMetadata": {
      "byteLimit": 2048000,
      "rowLimit": 10000
     },
     "inputWidgets": {},
     "nuid": "edcc4bc2-922e-4563-9b02-beca6136b6b9",
     "showTitle": false,
     "title": ""
    }
   },
   "outputs": [],
   "source": [
    "# Define a function to generate positional encodings\n",
    "def get_positional_encoding(max_seq_len, d_model):\n",
    "    position = np.arange(max_seq_len)[:, np.newaxis]\n",
    "    div_term = np.exp(np.arange(0, d_model, 2) * -(np.log(10000.0) / d_model))\n",
    "    positional_encoding = np.zeros((max_seq_len, d_model))\n",
    "    positional_encoding[:, 0::2] = np.sin(position * div_term)\n",
    "    positional_encoding[:, 1::2] = np.cos(position * div_term)\n",
    "    return torch.tensor(positional_encoding, dtype=torch.float)\n"
   ]
  },
  {
   "cell_type": "code",
   "execution_count": 0,
   "metadata": {
    "application/vnd.databricks.v1+cell": {
     "cellMetadata": {
      "byteLimit": 2048000,
      "rowLimit": 10000
     },
     "inputWidgets": {},
     "nuid": "97840c14-fcfd-4479-b3de-7010b1220875",
     "showTitle": false,
     "title": ""
    }
   },
   "outputs": [
    {
     "output_type": "display_data",
     "data": {
      "image/png": "[encoded data removed]",
      "text/plain": [
       "<Figure size 500x500 with 2 Axes>"
      ]
     },
     "metadata": {},
     "output_type": "display_data"
    }
   ],
   "source": [
    "# Function to plot heatmap\n",
    "# ------------------------\n",
    "def plot_heatmap(data, title):\n",
    "    plt.figure(figsize=(5,5))\n",
    "    seaborn.heatmap(data, cmap=\"cool\",vmin=-1, vmax=1)\n",
    "    plt.ylabel(\"Word/token\")\n",
    "    plt.xlabel(\"Positional Encoding Vector\")\n",
    "    plt.title(title)\n",
    "    plt.show()\n",
    "\n",
    "# Generate and plot positional encoding\n",
    "# -------------------------------------\n",
    "# Get positional encodings\n",
    "max_seq_len = len(sentence.split())  # Maximum sequence length\n",
    "d_model = embedding_size  # Same as the size of the word embeddings\n",
    "positional_encodings = get_positional_encoding(max_seq_len, d_model)\n",
    "plot_heatmap(positional_encodings, \"Positional Encoding\")"
   ]
  },
  {
   "cell_type": "markdown",
   "metadata": {
    "application/vnd.databricks.v1+cell": {
     "cellMetadata": {},
     "inputWidgets": {},
     "nuid": "567d7e37-0077-4016-85ad-a87080879a60",
     "showTitle": false,
     "title": ""
    }
   },
   "source": [
    "## Interpreting the Positional Encoding Map\n",
    "In the Transformer model, positional encoding is used to give the model some information about the relative positions of the words in the sequence since the Transformer does not have any inherent sense of order of the input sequence.\n",
    "\n",
    "The positional encoding for a position \\(p\\) in the sequence and a dimension \\(i\\) in the embedding space is a mix of sine and cosine functions:\n",
    "\n",
    "\n",
    "$$PE_{(p, 2i)} = \\sin\\left(\\frac{p}{10000^{2i/d}}\\right)$$\n",
    "\n",
    "\n",
    "\n",
    "$$PE_{(p, 2i+1)} = \\cos\\left(\\frac{p}{10000^{2i/d}}\\right)$$\n",
    "\n",
    "\n",
    "Here, \\\\(d\\\\) is the dimension of the word embedding.\n",
    "\n",
    "These functions were chosen because they can provide a unique encoding for each word position and these encodings can be easily learned and extrapolated for sequence lengths not seen during training.\n",
    "\n",
    "In the heatmap:\n",
    "\n",
    "- The x-axis represents the dimension of the embedding space. Every pair of dimensions \\\\((2i, 2i+1)\\\\) corresponds to a specific frequency of the sine and cosine functions.\n",
    "\n",
    "- The y-axis represents the position of a word in the sequence.\n",
    "\n",
    "- The color at each point in the heatmap represents the value of the positional encoding at that position and dimension. Typically, a warmer color (like red) represents a higher value and a cooler color (like blue) represents a lower value.\n",
    "\n",
    "By visualizing the positional encodings in a heatmap, we can see how these values change across positions and dimensions, and get an intuition for how the Transformer model might use these values to understand the order of words in the sequence."
   ]
  },
  {
   "cell_type": "code",
   "execution_count": 0,
   "metadata": {
    "application/vnd.databricks.v1+cell": {
     "cellMetadata": {
      "byteLimit": 2048000,
      "rowLimit": 10000
     },
     "inputWidgets": {},
     "nuid": "22edcd4a-7bef-4485-a595-6e0858fcd26d",
     "showTitle": false,
     "title": ""
    }
   },
   "outputs": [
    {
     "output_type": "stream",
     "name": "stdout",
     "output_type": "stream",
     "text": [
      "tensor([[-0.0515, -0.8917,  0.0078,  2.3176,  0.4592,  0.6202,  0.0429,  1.1111,\n          0.9339,  2.2077, -0.2159, -0.0532,  0.5861,  2.5419, -0.2251,  2.2767],\n        [ 0.9197, -0.0977,  0.1912,  0.4025, -0.4574, -0.2813, -0.1912, -1.3484,\n          0.2810,  0.5816,  1.1358,  0.5371,  1.3190,  1.9082,  1.4979,  3.3175],\n        [-0.6194,  0.0167,  1.2431,  1.5560,  0.6652,  1.7658, -0.1410, -0.8774,\n         -0.4278,  0.2251,  1.0357,  0.9549, -0.4806,  2.8307, -2.2665, -0.7641],\n        [ 0.0958,  0.0856,  0.5148, -0.3229,  1.0683,  1.2804,  0.3279,  1.7654,\n          0.1138,  2.1309, -0.0219, -0.8233,  0.7902,  0.6387, -0.2175,  2.0266],\n        [-2.4751,  0.3204,  1.0409,  1.6333,  0.8743, -0.6731,  0.3376,  1.1614,\n         -1.2619, -0.1791,  0.4881,  1.1372,  0.1508,  0.2833, -0.7795,  1.9856],\n        [ 0.0663,  0.1489,  1.1204, -0.1578, -0.3392,  2.0398, -1.4141, -0.6205,\n         -1.1072,  1.2161, -1.6728, -0.2529,  0.2157,  1.5659, -0.0733,  0.4777],\n        [-0.4647,  1.9831, -0.4723, -0.3252,  1.8434,  0.5438,  1.0262, -0.8600,\n         -0.2389,  1.6910, -0.0860,  0.9836,  0.8768,  2.2424,  1.4118,  1.5434],\n        [-0.0074,  2.0671,  0.6258, -0.4201,  0.9983,  1.6391, -0.2131,  1.7431,\n         -1.0537,  1.5513,  0.9384,  1.2103, -0.1199, -0.6833,  0.0483,  0.4763],\n        [ 0.4414, -0.6003,  0.2687, -1.1934, -0.9796,  0.4140,  0.5821,  1.0351,\n          0.6498,  1.1366,  2.5092,  0.3161,  1.8697,  3.2576, -0.4059,  2.0466]],\n       grad_fn=<AddBackward0>)\n"
     ]
    }
   ],
   "source": [
    "# Get positional encodings\n",
    "max_seq_len = len(sentence.split())  # Maximum sequence length\n",
    "d_model = embedding_size  # Same as the size of the word embeddings\n",
    "positional_encodings = get_positional_encoding(max_seq_len, d_model)\n",
    "\n",
    "# Add word embeddings and positional encodings\n",
    "final_embeddings = word_embeddings + positional_encodings\n",
    "\n",
    "print(final_embeddings)"
   ]
  },
  {
   "cell_type": "markdown",
   "metadata": {
    "application/vnd.databricks.v1+cell": {
     "cellMetadata": {},
     "inputWidgets": {},
     "nuid": "7478f1bb-f22c-484c-a771-303b47fb0146",
     "showTitle": false,
     "title": ""
    }
   },
   "source": [
    "# Section 2: Building Our Own Decoder From Scratch\n",
    "\n",
    "Let's now build a decoder transfomer. We'll build up the code from scratch and build a single layer transformer."
   ]
  },
  {
   "cell_type": "code",
   "execution_count": 0,
   "metadata": {
    "application/vnd.databricks.v1+cell": {
     "cellMetadata": {
      "byteLimit": 2048000,
      "rowLimit": 10000
     },
     "inputWidgets": {},
     "nuid": "2e2bce5e-5cf3-4f8f-8f5b-31be8d14b3bd",
     "showTitle": false,
     "title": ""
    }
   },
   "outputs": [],
   "source": [
    "# Here we define the DecoderBlock, which is a single layer of the Transformer Decoder.\n",
    "\n",
    "class DecoderBlock(nn.Module):\n",
    "    def __init__(self, d_model, num_heads, ff_hidden_dim, dropout):\n",
    "        super(DecoderBlock, self).__init__()\n",
    "\n",
    "    # The first part of the __init__ function defines the hyperparameters for the DecoderBlock.\n",
    "    # d_model: the dimension of the input vector.\n",
    "    # num_heads: the number of heads in the multihead attention mechanism.\n",
    "    # ff_hidden_dim: the dimension of the feed forward hidden layer.\n",
    "    # dropout: the dropout rate.\n",
    "\n",
    "        self.self_attention = nn.MultiheadAttention(d_model, num_heads, dropout=dropout)\n",
    "        self.norm1 = nn.LayerNorm(d_model)\n",
    "        self.dropout1 = nn.Dropout(dropout)\n",
    "        self.linear1 = nn.Linear(d_model, ff_hidden_dim)\n",
    "        self.linear2 = nn.Linear(ff_hidden_dim, d_model)\n",
    "        self.norm2 = nn.LayerNorm(d_model)\n",
    "        self.dropout2 = nn.Dropout(dropout)\n",
    "\n",
    "    # The forward method defines how the data flows through the network.\n",
    "    # It takes two inputs: x, tgt_mask.\n",
    "    # x: the input tensor.\n",
    "    # tgt_mask: masks to prevent attention to certain positions.\n",
    "\n",
    "    def forward(self, x,tgt_mask):\n",
    "        attn_output, _ = self.self_attention(x, x, x, attn_mask=tgt_mask)\n",
    "        x = x + self.dropout1(attn_output)\n",
    "        x = self.norm1(x)\n",
    "        ff_output = self.linear2(F.relu(self.linear1(x)))\n",
    "        x = x + self.dropout2(ff_output)\n",
    "        x = self.norm2(x)\n",
    "        return x"
   ]
  },
  {
   "cell_type": "code",
   "execution_count": 0,
   "metadata": {
    "application/vnd.databricks.v1+cell": {
     "cellMetadata": {
      "byteLimit": 2048000,
      "rowLimit": 10000
     },
     "inputWidgets": {},
     "nuid": "701d77be-7ffa-4a2d-a2d2-0bf20095dc6c",
     "showTitle": false,
     "title": ""
    }
   },
   "outputs": [],
   "source": [
    "# Next, we define the PositionalEncoding class, which applies a specific positional encoding to give the model \n",
    "# information about the relative or absolute position of the tokens in the sequence.\n",
    "\n",
    "class PositionalEncoding(nn.Module):\n",
    "    def __init__(self, d_model, dropout=0.1, max_len=5000):\n",
    "        super(PositionalEncoding, self).__init__()\n",
    "        self.dropout = nn.Dropout(p=dropout)\n",
    "\n",
    "        pe = torch.zeros(max_len, d_model)\n",
    "        position = torch.arange(0, max_len, dtype=torch.float).unsqueeze(1)\n",
    "        div_term = torch.exp(torch.arange(0, d_model, 2).float() * (-math.log(10000.0) / d_model))\n",
    "        pe[:, 0::2] = torch.sin(position * div_term)\n",
    "        pe[:, 1::2] = torch.cos(position * div_term)\n",
    "        pe = pe.unsqueeze(0).transpose(0, 1)\n",
    "        self.register_buffer(\"pe\", pe)\n",
    "\n",
    "    def forward(self, x):\n",
    "        x = x + self.pe[:x.size(0), :]\n",
    "        return self.dropout(x)"
   ]
  },
  {
   "cell_type": "code",
   "execution_count": 0,
   "metadata": {
    "application/vnd.databricks.v1+cell": {
     "cellMetadata": {
      "byteLimit": 2048000,
      "rowLimit": 10000
     },
     "inputWidgets": {},
     "nuid": "6d696056-099d-4fe0-86c9-abc74a79d979",
     "showTitle": false,
     "title": ""
    }
   },
   "outputs": [],
   "source": [
    "# Finally, we define the full Transformer Decoder, which includes the initial embedding layer, \n",
    "# a single Transformer Decoder block, and the final linear and softmax layers.\n",
    "\n",
    "class TransformerDecoder(nn.Module):\n",
    "    def __init__(self, vocab_size, d_model, num_heads, ff_hidden_dim, dropout):\n",
    "        super(TransformerDecoder, self).__init__()\n",
    "\n",
    "    # The __init__ function defines the hyperparameters and layers of the TransformerDecoder.\n",
    "    # vocab_size: the size of the vocabulary.\n",
    "    # d_model, num_heads, ff_hidden_dim, dropout: hyperparameters for the Transformer decoder block.\n",
    "\n",
    "    # Embedding layer: transforms the input words (given as indices) into dense vectors of dimension d_model.\n",
    "    # Positional encoding: adds a vector to each input embedding that depends on its position in the sequence.\n",
    "    # Transformer block: the Transformer decoder block defined earlier.\n",
    "    # Linear layer: a linear transformation to the output dimension equal to the vocabulary size.\n",
    "    # Softmax layer: transforms the output into a probability distribution over the vocabulary.\n",
    "\n",
    "        self.embedding = nn.Embedding(vocab_size, d_model)\n",
    "        self.pos_encoder = PositionalEncoding(d_model, dropout)\n",
    "        self.transformer_block = DecoderBlock(d_model, num_heads, ff_hidden_dim, dropout)\n",
    "        self.linear = nn.Linear(d_model, vocab_size)\n",
    "        self.softmax = nn.LogSoftmax(dim=-1)\n",
    "\n",
    "    # The forward method of the TransformerDecoder defines how the data flows through the decoder.\n",
    "\n",
    "    def forward(self, x):\n",
    "        x = self.embedding(x)\n",
    "        x = self.pos_encoder(x)\n",
    "        tgt_mask = generate_square_subsequent_mask(x.size(0))\n",
    "        x = self.transformer_block(x,tgt_mask)\n",
    "        output = self.linear(x)\n",
    "        output = self.softmax(output)\n",
    "        return output"
   ]
  },
  {
   "cell_type": "markdown",
   "metadata": {
    "application/vnd.databricks.v1+cell": {
     "cellMetadata": {},
     "inputWidgets": {},
     "nuid": "7e3ef4eb-0c44-411c-811f-64c2d296fe06",
     "showTitle": false,
     "title": ""
    }
   },
   "source": [
    "### Why we need to mask our input for decoders"
   ]
  },
  {
   "cell_type": "code",
   "execution_count": 0,
   "metadata": {
    "application/vnd.databricks.v1+cell": {
     "cellMetadata": {
      "byteLimit": 2048000,
      "rowLimit": 10000
     },
     "inputWidgets": {},
     "nuid": "b908fd86-d55f-403f-a10f-9646558b81b4",
     "showTitle": false,
     "title": ""
    }
   },
   "outputs": [
    {
     "output_type": "stream",
     "name": "stderr",
     "output_type": "stream",
     "text": [
      "/databricks/python/lib/python3.10/site-packages/matplotlib/colors.py:1253: RuntimeWarning: invalid value encountered in subtract\n  resdat -= vmin\n/databricks/python/lib/python3.10/site-packages/matplotlib/colors.py:1254: RuntimeWarning: invalid value encountered in true_divide\n  resdat /= (vmax - vmin)\n"
     ]
    },
    {
     "output_type": "display_data",
     "data": {
      "image/png": "[encoded data removed]",
      "text/plain": [
       "<Figure size 500x500 with 1 Axes>"
      ]
     },
     "metadata": {},
     "output_type": "display_data"
    }
   ],
   "source": [
    "def generate_square_subsequent_mask(sz):\n",
    "    \"\"\"Generate a mask to prevent attention to future positions.\"\"\"\n",
    "    mask = (torch.triu(torch.ones(sz, sz)) == 1).transpose(0, 1)\n",
    "    mask = mask.float().masked_fill(mask == 0, float('-inf')).masked_fill(mask == 1, float(0.0))\n",
    "    return mask\n",
    "\n",
    "mask = generate_square_subsequent_mask(sz=5)\n",
    "\n",
    "plt.figure(figsize=(5,5))\n",
    "seaborn.heatmap(mask, cmap=\"viridis\", cbar=False, square=True)\n",
    "plt.title(\"Mask for Transformer Decoder\")\n",
    "plt.show()"
   ]
  },
  {
   "cell_type": "markdown",
   "metadata": {
    "application/vnd.databricks.v1+cell": {
     "cellMetadata": {},
     "inputWidgets": {},
     "nuid": "6f8ffa2e-9d3c-4064-8fbb-f787e4587147",
     "showTitle": false,
     "title": ""
    }
   },
   "source": [
    "### Let's make our first decoder"
   ]
  },
  {
   "cell_type": "code",
   "execution_count": 0,
   "metadata": {
    "application/vnd.databricks.v1+cell": {
     "cellMetadata": {
      "byteLimit": 2048000,
      "rowLimit": 10000
     },
     "inputWidgets": {},
     "nuid": "d924ec01-e17e-4798-987d-187bbc2799cc",
     "showTitle": false,
     "title": ""
    }
   },
   "outputs": [
    {
     "output_type": "stream",
     "name": "stdout",
     "output_type": "stream",
     "text": [
      "torch.Size([50, 1, 1000])\ntorch.Size([50, 1])\n"
     ]
    }
   ],
   "source": [
    "# Define the hyperparameters\n",
    "vocab_size     = 1000\n",
    "d_model        = 512\n",
    "num_heads      = 1\n",
    "ff_hidden_dim  = 2*d_model\n",
    "dropout        = 0.1\n",
    "num_layers     = 10\n",
    "context_length = 50\n",
    "batch_size     = 1\n",
    "# Initialize the model\n",
    "model = TransformerDecoder(vocab_size, d_model, num_heads, ff_hidden_dim, dropout)\n",
    "\n",
    "# Create a tensor representing a batch of 1 sequences of length 10\n",
    "input_tensor = torch.randint(0, vocab_size, (context_length, batch_size))\n",
    "\n",
    "# Forward pass through the model\n",
    "output = model(input_tensor)\n",
    "\n",
    "# The output is a tensor of shape (sequence_length, batch_size, vocab_size)\n",
    "print(output.shape)  # Should print torch.Size([context_length, batch_size, vocab_size])\n",
    "\n",
    "# To get the predicted word indices, we can use the `argmax` function\n",
    "predicted_indices = output.argmax(dim=-1)\n",
    "\n",
    "# Now `predicted_indices` is a tensor of shape (sequence_length, batch_size) containing the predicted word indices\n",
    "print(predicted_indices.shape)  # Should print torch.Size([context_length, batch_size])\n"
   ]
  },
  {
   "cell_type": "code",
   "execution_count": 0,
   "metadata": {
    "application/vnd.databricks.v1+cell": {
     "cellMetadata": {
      "byteLimit": 2048000,
      "rowLimit": 10000
     },
     "inputWidgets": {},
     "nuid": "3192d7d9-3be5-4130-a24d-f53a170f3959",
     "showTitle": false,
     "title": ""
    }
   },
   "outputs": [
    {
     "output_type": "stream",
     "name": "stdout",
     "output_type": "stream",
     "text": [
      "The model has 3,127,784 trainable parameters\n"
     ]
    }
   ],
   "source": [
    "def count_parameters(model):\n",
    "    return sum(p.numel() for p in model.parameters() if p.requires_grad)\n",
    "\n",
    "print(f\"The model has {count_parameters(model):,} trainable parameters\")"
   ]
  },
  {
   "cell_type": "markdown",
   "metadata": {
    "application/vnd.databricks.v1+cell": {
     "cellMetadata": {},
     "inputWidgets": {},
     "nuid": "b5d98a7f-ff33-4780-810a-7de04283e810",
     "showTitle": false,
     "title": ""
    }
   },
   "source": [
    "### Looking at the output"
   ]
  },
  {
   "cell_type": "code",
   "execution_count": 0,
   "metadata": {
    "application/vnd.databricks.v1+cell": {
     "cellMetadata": {
      "byteLimit": 2048000,
      "rowLimit": 10000
     },
     "inputWidgets": {},
     "nuid": "c6ea39b1-43f7-4a2b-802b-3090a7f2f06f",
     "showTitle": false,
     "title": ""
    }
   },
   "outputs": [
    {
     "output_type": "display_data",
     "data": {
      "image/png": "[encoded data removed]",
      "text/plain": [
       "<Figure size 1200x600 with 1 Axes>"
      ]
     },
     "metadata": {},
     "output_type": "display_data"
    }
   ],
   "source": [
    "# Convert the log probabilities to probabilities\n",
    "distribution = torch.exp(output[0, 0, :])\n",
    "\n",
    "# Convert the output tensor to numpy array\n",
    "distribution = distribution.detach().numpy()\n",
    "\n",
    "# Now plot the distribution\n",
    "plt.figure(figsize=(12, 6))\n",
    "plt.bar(np.arange(vocab_size), distribution)\n",
    "plt.xlabel(\"Word Index\")\n",
    "plt.ylabel(\"Probability\")\n",
    "plt.title(\"Output Distribution over Vocabulary\")\n",
    "plt.show()"
   ]
  },
  {
   "cell_type": "markdown",
   "metadata": {
    "application/vnd.databricks.v1+cell": {
     "cellMetadata": {},
     "inputWidgets": {},
     "nuid": "ff3a38e6-f521-4e82-8777-a616ce4ef771",
     "showTitle": false,
     "title": ""
    }
   },
   "source": [
    "# Section 3: Multi-layer Decoder\n",
    "\n",
    "Let's allow for multiple layers in our decoder so we can form models like GPT"
   ]
  },
  {
   "cell_type": "code",
   "execution_count": 0,
   "metadata": {
    "application/vnd.databricks.v1+cell": {
     "cellMetadata": {
      "byteLimit": 2048000,
      "rowLimit": 10000
     },
     "inputWidgets": {},
     "nuid": "7606bc55-de3a-4423-82a2-0f946cbb0f8d",
     "showTitle": false,
     "title": ""
    }
   },
   "outputs": [],
   "source": [
    "class MultiLayerTransformerDecoder(nn.Module):\n",
    "    def __init__(self, vocab_size, d_model, num_heads, ff_hidden_dim, dropout, num_layers):\n",
    "        super(MultiLayerTransformerDecoder, self).__init__()\n",
    "\n",
    "# The __init__ function now also takes a `num_layers` argument, which specifies the number of decoder blocks.\n",
    "\n",
    "        self.embedding = nn.Embedding(vocab_size, d_model)\n",
    "        self.pos_encoder = PositionalEncoding(d_model, dropout)\n",
    "        self.transformer_blocks = nn.ModuleList([\n",
    "            DecoderBlock(d_model, num_heads, ff_hidden_dim, dropout)\n",
    "            for _ in range(num_layers)\n",
    "        ])\n",
    "        self.linear = nn.Linear(d_model, vocab_size)\n",
    "        self.softmax = nn.LogSoftmax(dim=-1)\n",
    "\n",
    "# The forward method has been updated to pass the input through each transformer block in sequence.\n",
    "\n",
    "    def forward(self, x):\n",
    "        x = self.embedding(x)\n",
    "        x = self.pos_encoder(x)\n",
    "        for transformer_block in self.transformer_blocks:\n",
    "            tgt_mask = generate_square_subsequent_mask(x.size(0))\n",
    "            x = transformer_block(x,tgt_mask)\n",
    "        output = self.linear(x)\n",
    "        output = self.softmax(output)\n",
    "        return output\n"
   ]
  },
  {
   "cell_type": "code",
   "execution_count": 0,
   "metadata": {
    "application/vnd.databricks.v1+cell": {
     "cellMetadata": {
      "byteLimit": 2048000,
      "rowLimit": 10000
     },
     "inputWidgets": {},
     "nuid": "dc1101de-0151-4ec4-919c-07ead702a05f",
     "showTitle": false,
     "title": ""
    }
   },
   "outputs": [
    {
     "output_type": "stream",
     "name": "stdout",
     "output_type": "stream",
     "text": [
      "The model has 544,552,720 trainable parameters\n"
     ]
    },
    {
     "output_type": "display_data",
     "data": {
      "image/png": "[encoded data removed]",
      "text/plain": [
       "<Figure size 1200x600 with 1 Axes>"
      ]
     },
     "metadata": {},
     "output_type": "display_data"
    }
   ],
   "source": [
    "# Define the hyperparameters\n",
    "vocab_size     = 10000\n",
    "d_model        = 2048\n",
    "num_heads      = 1\n",
    "ff_hidden_dim  = 4*d_model\n",
    "dropout        = 0.1\n",
    "num_layers     = 10\n",
    "context_length = 100\n",
    "batch_size     = 1\n",
    "\n",
    "# Create our input to the model to process\n",
    "input_tensor = torch.randint(0, vocab_size, (context_length, batch_size))\n",
    "\n",
    "# Initialize the model with `num_layer` layers\n",
    "model = MultiLayerTransformerDecoder(vocab_size, d_model, num_heads, ff_hidden_dim, dropout, num_layers)\n",
    "\n",
    "# Print the number of trainable parameters\n",
    "print(f\"The model has {count_parameters(model):,} trainable parameters\")\n",
    "\n",
    "# Let's use the same input_tensor from the previous example\n",
    "output = model(input_tensor)\n",
    "\n",
    "# Convert the log probabilities to probabilities for the first sequence in the batch and the first position in the sequence\n",
    "distribution = torch.exp(output[0, 0, :])\n",
    "\n",
    "# Convert the output tensor to numpy array\n",
    "distribution = distribution.detach().numpy()\n",
    "\n",
    "# Now plot the distribution\n",
    "plt.figure(figsize=(12, 6))\n",
    "plt.bar(np.arange(vocab_size), distribution)\n",
    "plt.xlabel(\"Word Index\")\n",
    "plt.ylabel(\"Probability\")\n",
    "plt.title(\"Output Distribution over Vocabulary\")\n",
    "plt.show()"
   ]
  },
  {
   "cell_type": "code",
   "execution_count": 0,
   "metadata": {
    "application/vnd.databricks.v1+cell": {
     "cellMetadata": {
      "byteLimit": 2048000,
      "rowLimit": 10000
     },
     "inputWidgets": {},
     "nuid": "4d4e4364-edfe-479b-bf62-d8198e2c95b2",
     "showTitle": false,
     "title": ""
    }
   },
   "outputs": [
    {
     "output_type": "execute_result",
     "data": {
      "text/plain": [
       "MultiLayerTransformerDecoder(\n",
       "  (embedding): Embedding(10000, 2048)\n",
       "  (pos_encoder): PositionalEncoding(\n",
       "    (dropout): Dropout(p=0.1, inplace=False)\n",
       "  )\n",
       "  (transformer_blocks): ModuleList(\n",
       "    (0): DecoderBlock(\n",
       "      (self_attention): MultiheadAttention(\n",
       "        (out_proj): NonDynamicallyQuantizableLinear(in_features=2048, out_features=2048, bias=True)\n",
       "      )\n",
       "      (norm1): LayerNorm((2048,), eps=1e-05, elementwise_affine=True)\n",
       "      (dropout1): Dropout(p=0.1, inplace=False)\n",
       "      (linear1): Linear(in_features=2048, out_features=8192, bias=True)\n",
       "      (linear2): Linear(in_features=8192, out_features=2048, bias=True)\n",
       "      (norm2): LayerNorm((2048,), eps=1e-05, elementwise_affine=True)\n",
       "      (dropout2): Dropout(p=0.1, inplace=False)\n",
       "    )\n",
       "    (1): DecoderBlock(\n",
       "      (self_attention): MultiheadAttention(\n",
       "        (out_proj): NonDynamicallyQuantizableLinear(in_features=2048, out_features=2048, bias=True)\n",
       "      )\n",
       "      (norm1): LayerNorm((2048,), eps=1e-05, elementwise_affine=True)\n",
       "      (dropout1): Dropout(p=0.1, inplace=False)\n",
       "      (linear1): Linear(in_features=2048, out_features=8192, bias=True)\n",
       "      (linear2): Linear(in_features=8192, out_features=2048, bias=True)\n",
       "      (norm2): LayerNorm((2048,), eps=1e-05, elementwise_affine=True)\n",
       "      (dropout2): Dropout(p=0.1, inplace=False)\n",
       "    )\n",
       "    (2): DecoderBlock(\n",
       "      (self_attention): MultiheadAttention(\n",
       "        (out_proj): NonDynamicallyQuantizableLinear(in_features=2048, out_features=2048, bias=True)\n",
       "      )\n",
       "      (norm1): LayerNorm((2048,), eps=1e-05, elementwise_affine=True)\n",
       "      (dropout1): Dropout(p=0.1, inplace=False)\n",
       "      (linear1): Linear(in_features=2048, out_features=8192, bias=True)\n",
       "      (linear2): Linear(in_features=8192, out_features=2048, bias=True)\n",
       "      (norm2): LayerNorm((2048,), eps=1e-05, elementwise_affine=True)\n",
       "      (dropout2): Dropout(p=0.1, inplace=False)\n",
       "    )\n",
       "    (3): DecoderBlock(\n",
       "      (self_attention): MultiheadAttention(\n",
       "        (out_proj): NonDynamicallyQuantizableLinear(in_features=2048, out_features=2048, bias=True)\n",
       "      )\n",
       "      (norm1): LayerNorm((2048,), eps=1e-05, elementwise_affine=True)\n",
       "      (dropout1): Dropout(p=0.1, inplace=False)\n",
       "      (linear1): Linear(in_features=2048, out_features=8192, bias=True)\n",
       "      (linear2): Linear(in_features=8192, out_features=2048, bias=True)\n",
       "      (norm2): LayerNorm((2048,), eps=1e-05, elementwise_affine=True)\n",
       "      (dropout2): Dropout(p=0.1, inplace=False)\n",
       "    )\n",
       "    (4): DecoderBlock(\n",
       "      (self_attention): MultiheadAttention(\n",
       "        (out_proj): NonDynamicallyQuantizableLinear(in_features=2048, out_features=2048, bias=True)\n",
       "      )\n",
       "      (norm1): LayerNorm((2048,), eps=1e-05, elementwise_affine=True)\n",
       "      (dropout1): Dropout(p=0.1, inplace=False)\n",
       "      (linear1): Linear(in_features=2048, out_features=8192, bias=True)\n",
       "      (linear2): Linear(in_features=8192, out_features=2048, bias=True)\n",
       "      (norm2): LayerNorm((2048,), eps=1e-05, elementwise_affine=True)\n",
       "      (dropout2): Dropout(p=0.1, inplace=False)\n",
       "    )\n",
       "    (5): DecoderBlock(\n",
       "      (self_attention): MultiheadAttention(\n",
       "        (out_proj): NonDynamicallyQuantizableLinear(in_features=2048, out_features=2048, bias=True)\n",
       "      )\n",
       "      (norm1): LayerNorm((2048,), eps=1e-05, elementwise_affine=True)\n",
       "      (dropout1): Dropout(p=0.1, inplace=False)\n",
       "      (linear1): Linear(in_features=2048, out_features=8192, bias=True)\n",
       "      (linear2): Linear(in_features=8192, out_features=2048, bias=True)\n",
       "      (norm2): LayerNorm((2048,), eps=1e-05, elementwise_affine=True)\n",
       "      (dropout2): Dropout(p=0.1, inplace=False)\n",
       "    )\n",
       "    (6): DecoderBlock(\n",
       "      (self_attention): MultiheadAttention(\n",
       "        (out_proj): NonDynamicallyQuantizableLinear(in_features=2048, out_features=2048, bias=True)\n",
       "      )\n",
       "      (norm1): LayerNorm((2048,), eps=1e-05, elementwise_affine=True)\n",
       "      (dropout1): Dropout(p=0.1, inplace=False)\n",
       "      (linear1): Linear(in_features=2048, out_features=8192, bias=True)\n",
       "      (linear2): Linear(in_features=8192, out_features=2048, bias=True)\n",
       "      (norm2): LayerNorm((2048,), eps=1e-05, elementwise_affine=True)\n",
       "      (dropout2): Dropout(p=0.1, inplace=False)\n",
       "    )\n",
       "    (7): DecoderBlock(\n",
       "      (self_attention): MultiheadAttention(\n",
       "        (out_proj): NonDynamicallyQuantizableLinear(in_features=2048, out_features=2048, bias=True)\n",
       "      )\n",
       "      (norm1): LayerNorm((2048,), eps=1e-05, elementwise_affine=True)\n",
       "      (dropout1): Dropout(p=0.1, inplace=False)\n",
       "      (linear1): Linear(in_features=2048, out_features=8192, bias=True)\n",
       "      (linear2): Linear(in_features=8192, out_features=2048, bias=True)\n",
       "      (norm2): LayerNorm((2048,), eps=1e-05, elementwise_affine=True)\n",
       "      (dropout2): Dropout(p=0.1, inplace=False)\n",
       "    )\n",
       "    (8): DecoderBlock(\n",
       "      (self_attention): MultiheadAttention(\n",
       "        (out_proj): NonDynamicallyQuantizableLinear(in_features=2048, out_features=2048, bias=True)\n",
       "      )\n",
       "      (norm1): LayerNorm((2048,), eps=1e-05, elementwise_affine=True)\n",
       "      (dropout1): Dropout(p=0.1, inplace=False)\n",
       "      (linear1): Linear(in_features=2048, out_features=8192, bias=True)\n",
       "      (linear2): Linear(in_features=8192, out_features=2048, bias=True)\n",
       "      (norm2): LayerNorm((2048,), eps=1e-05, elementwise_affine=True)\n",
       "      (dropout2): Dropout(p=0.1, inplace=False)\n",
       "    )\n",
       "    (9): DecoderBlock(\n",
       "      (self_attention): MultiheadAttention(\n",
       "        (out_proj): NonDynamicallyQuantizableLinear(in_features=2048, out_features=2048, bias=True)\n",
       "      )\n",
       "      (norm1): LayerNorm((2048,), eps=1e-05, elementwise_affine=True)\n",
       "      (dropout1): Dropout(p=0.1, inplace=False)\n",
       "      (linear1): Linear(in_features=2048, out_features=8192, bias=True)\n",
       "      (linear2): Linear(in_features=8192, out_features=2048, bias=True)\n",
       "      (norm2): LayerNorm((2048,), eps=1e-05, elementwise_affine=True)\n",
       "      (dropout2): Dropout(p=0.1, inplace=False)\n",
       "    )\n",
       "  )\n",
       "  (linear): Linear(in_features=2048, out_features=10000, bias=True)\n",
       "  (softmax): LogSoftmax(dim=-1)\n",
       ")"
      ]
     },
     "execution_count": 28,
     "metadata": {},
     "output_type": "execute_result"
    }
   ],
   "source": [
    "model"
   ]
  },
  {
   "cell_type": "markdown",
   "metadata": {
    "application/vnd.databricks.v1+cell": {
     "cellMetadata": {},
     "inputWidgets": {},
     "nuid": "03560d0d-1b09-4308-a453-9c3222c3c499",
     "showTitle": false,
     "title": ""
    }
   },
   "source": [
    "# Section 4: Adding real vocabulary to our model\n",
    "\n",
    "Rather than just using a random integer, let's add in a small vocabulary of real words and let our model speak!"
   ]
  },
  {
   "cell_type": "code",
   "execution_count": 0,
   "metadata": {
    "application/vnd.databricks.v1+cell": {
     "cellMetadata": {
      "byteLimit": 2048000,
      "rowLimit": 10000
     },
     "inputWidgets": {},
     "nuid": "2c27ca94-1476-43f1-8f3e-9d494b0009a3",
     "showTitle": false,
     "title": ""
    }
   },
   "outputs": [
    {
     "output_type": "stream",
     "name": "stdout",
     "output_type": "stream",
     "text": [
      "as against like like to against like of between to "
     ]
    }
   ],
   "source": [
    "# Define the hyperparameters\n",
    "d_model        = 100\n",
    "num_heads      = 1\n",
    "ff_hidden_dim  = 4*d_model\n",
    "dropout        = 0.1\n",
    "num_layers     = 4\n",
    "context_length = 5\n",
    "batch_size     = 1\n",
    "# Define the vocabulary\n",
    "vocab = [\"of\", \"in\", \"to\", \"for\", \"with\", \"on\", \"at\", \"from\", \"by\", \"about\", \"as\", \"into\", \"like\", \"through\", \"after\", \"over\", \"between\", \"out\", \"against\", \"during\", \"without\", \"before\", \"under\", \"around\", \"among\"]\n",
    "vocab_size = len(vocab)\n",
    "\n",
    "# Create a dictionary that maps words to indices\n",
    "word2id = {word: id for id, word in enumerate(vocab)}\n",
    "\n",
    "# Create a dictionary that maps indices to words\n",
    "id2word = {id: word for id, word in enumerate(vocab)}\n",
    "\n",
    "# Initialize the model\n",
    "model = MultiLayerTransformerDecoder(vocab_size, d_model, num_heads, ff_hidden_dim, dropout, num_layers)\n",
    "\n",
    "# Create a tensor representing a single sequence of variable length\n",
    "# Here we randomly select words from our vocabulary\n",
    "sequence = [\"of\", \"in\", \"to\", \"for\", \"with\", \"on\", \"at\"][:context_length]\n",
    "input_tensor = torch.tensor([[word2id[word] for word in sequence]])\n",
    "\n",
    "# Generate a sequence of words\n",
    "generated_words = []\n",
    "for i in range(10):  # Generate 10 words\n",
    "    output = model(input_tensor)\n",
    "    predicted_index = output.argmax(dim=-1)[0, -1]  # Take the last word in the sequence\n",
    "    predicted_word = id2word[predicted_index.item()]\n",
    "    print(predicted_word, end=\" \")\n",
    "    generated_words.append(predicted_word)\n",
    "    input_tensor = torch.cat([input_tensor, predicted_index.unsqueeze(0).unsqueeze(0)], dim=-1)  # Append the predicted word to the input\n",
    "    time.sleep(0.75)  # Pause for 1 second\n"
   ]
  },
  {
   "cell_type": "markdown",
   "metadata": {
    "application/vnd.databricks.v1+cell": {
     "cellMetadata": {},
     "inputWidgets": {},
     "nuid": "91092204-8fbd-4a2c-b6db-ce26ae014197",
     "showTitle": false,
     "title": ""
    }
   },
   "source": [
    "# Section 5: Using a trained decoder and real-world vocabulary\n",
    "\n",
    "Training our model will take a long time, let's look at two trained versions of what we've been building, GPT and GPT-XL. These are both decoder models with only slight changes in sizes"
   ]
  },
  {
   "cell_type": "code",
   "execution_count": 0,
   "metadata": {
    "application/vnd.databricks.v1+cell": {
     "cellMetadata": {
      "byteLimit": 2048000,
      "rowLimit": 10000
     },
     "inputWidgets": {},
     "nuid": "13edbcd6-fc91-424e-a288-e9466daff69e",
     "showTitle": false,
     "title": ""
    }
   },
   "outputs": [
    {
     "output_type": "stream",
     "name": "stderr",
     "output_type": "stream",
     "text": [
      "/databricks/python/lib/python3.10/site-packages/huggingface_hub/file_download.py:133: UserWarning: `huggingface_hub` cache-system uses symlinks by default to efficiently store duplicated files but your machine does not support them in /dbfs/mnt/dbacademy-datasets/llm-foundation-models/v01-raw/models. Caching files will still work but in a degraded version that might require more space on your disk. This warning can be disabled by setting the `HF_HUB_DISABLE_SYMLINKS_WARNING` environment variable. For more details, see https://huggingface.co/docs/huggingface_hub/how-to-cache#limitations.\n  warnings.warn(message)\n"
     ]
    },
    {
     "output_type": "display_data",
     "data": {
      "application/vnd.jupyter.widget-view+json": {
       "model_id": "3c13e77c06c64918aca6b62c99527e44",
       "version_major": 2,
       "version_minor": 0
      },
      "text/plain": [
       "Downloading tokenizer_config.json:   0%|          | 0.00/26.0 [00:00<?, ?B/s]"
      ]
     },
     "metadata": {},
     "output_type": "display_data"
    },
    {
     "output_type": "display_data",
     "data": {
      "application/vnd.jupyter.widget-view+json": {
       "model_id": "9151edc287b74d56b56dc3a265a50429",
       "version_major": 2,
       "version_minor": 0
      },
      "text/plain": [
       "Downloading model.safetensors:   0%|          | 0.00/548M [00:00<?, ?B/s]"
      ]
     },
     "metadata": {},
     "output_type": "display_data"
    }
   ],
   "source": [
    "# Import the necessary libraries\n",
    "from transformers import GPT2LMHeadModel, GPT2Tokenizer\n",
    "\n",
    "# Load pre-trained models and tokenizers\n",
    "tokenizer_small = GPT2Tokenizer.from_pretrained(\"gpt2\", cache_dir=DA.paths.datasets+\"/models\")\n",
    "model_small = GPT2LMHeadModel.from_pretrained(\"gpt2\", cache_dir=DA.paths.datasets+\"/models\")"
   ]
  },
  {
   "cell_type": "code",
   "execution_count": 0,
   "metadata": {
    "application/vnd.databricks.v1+cell": {
     "cellMetadata": {
      "byteLimit": 2048000,
      "rowLimit": 10000
     },
     "inputWidgets": {},
     "nuid": "08e8e301-53b3-49eb-82ce-6bd37f086f48",
     "showTitle": false,
     "title": ""
    }
   },
   "outputs": [],
   "source": [
    "# Define a prompt. This is the initial string of text that the model will use to start generating text.\n",
    "prompt = \"This is a MOOC about large language models, I have only just started, but already\""
   ]
  },
  {
   "cell_type": "code",
   "execution_count": 0,
   "metadata": {
    "application/vnd.databricks.v1+cell": {
     "cellMetadata": {
      "byteLimit": 2048000,
      "rowLimit": 10000
     },
     "inputWidgets": {},
     "nuid": "ecbf81ca-085b-4e9e-b24b-47cfec302107",
     "showTitle": false,
     "title": ""
    }
   },
   "outputs": [
    {
     "output_type": "stream",
     "name": "stdout",
     "output_type": "stream",
     "text": [
      "This is a MOOC about large language models, I have only just started, but already  many  more  languages  have  been  put  together ,  including  python .  My  ideas  on  programming  languages  are  a  bit  more  complex ,  so  many  tools \nGPT-2 Small completed.\n"
     ]
    }
   ],
   "source": [
    "# We use the tokenizer to convert the prompt into a format that the model can understand. In this case,\n",
    "# it converts the string into a sequence of token IDs, which are numbers that represent each word or subword in the string.\n",
    "inputs_small = tokenizer_small.encode(prompt, return_tensors='pt')\n",
    "\n",
    "# Create an attention mask. This is a sequence of 1s and 0s where 1s indicate that the corresponding token should\n",
    "# be attended to and 0s indicate that the token should be ignored. Here, all tokens should be attended to.\n",
    "attention_mask_small = torch.ones(inputs_small.shape, dtype=torch.long)\n",
    "\n",
    "# Get the ID of the special end-of-sequence (EOS) token from the tokenizer. This token indicates the end of a sequence.\n",
    "pad_token_id_small = tokenizer_small.eos_token_id  \n",
    "\n",
    "# Print the initial prompt. The 'end' argument specifies what to print at the end (default is newline, but we want space).\n",
    "# 'flush' argument ensures that the output is printed immediately.\n",
    "print(prompt, end=\" \", flush=True)\n",
    "\n",
    "# We're going to generate 25 words\n",
    "for _ in range(25):\n",
    "\n",
    "    # Generate the next part of the sequence. 'do_sample=True' means to sample from the distribution of possible next tokens\n",
    "    # rather than just taking the most likely next token. 'pad_token_id' argument is to tell the model what token to use if it\n",
    "    # needs to pad the sequence to a certain length.\n",
    "    outputs_small = model_small.generate(inputs_small, max_length=inputs_small.shape[-1]+1, do_sample=True, pad_token_id=pad_token_id_small,\n",
    "                                         attention_mask=attention_mask_small)\n",
    "\n",
    "    # The generated output is a sequence of token IDs, so we use the tokenizer to convert these back into words.\n",
    "    generated_word = tokenizer_small.decode(outputs_small[0][-1])\n",
    "\n",
    "    # Print the generated word, followed by a space. We use 'end' and 'flush' arguments as before.\n",
    "    print(generated_word, end=' ', flush=True)\n",
    "\n",
    "    # Append the generated token to the input sequence for the next round of generation. We have to add extra dimensions \n",
    "    # to the tensor to match the shape of the input tensor (which is 2D: batch size x sequence length).\n",
    "    inputs_small = torch.cat([inputs_small, outputs_small[0][-1].unsqueeze(0).unsqueeze(0)], dim=-1)\n",
    "\n",
    "    # Extend the attention mask for the new token. Like before, it should be attended to, so we add a 1.\n",
    "    attention_mask_small = torch.cat([attention_mask_small, torch.ones((1, 1), dtype=torch.long)], dim=-1)\n",
    "\n",
    "    # We pause for 0.7 seconds to make the generation more readable.\n",
    "    time.sleep(0.7)\n",
    "\n",
    "# Finally, print a newline and a completion message.\n",
    "print(\"\\nGPT-2 Small completed.\")"
   ]
  },
  {
   "cell_type": "code",
   "execution_count": 0,
   "metadata": {
    "application/vnd.databricks.v1+cell": {
     "cellMetadata": {
      "byteLimit": 2048000,
      "rowLimit": 10000
     },
     "inputWidgets": {},
     "nuid": "23ef1e58-8406-4340-8aca-533aa66bfa94",
     "showTitle": false,
     "title": ""
    }
   },
   "outputs": [
    {
     "output_type": "display_data",
     "data": {
      "application/vnd.jupyter.widget-view+json": {
       "model_id": "6af91efea3d24ce1bff1130cdf4068ee",
       "version_major": 2,
       "version_minor": 0
      },
      "text/plain": [
       "Downloading tokenizer_config.json:   0%|          | 0.00/26.0 [00:00<?, ?B/s]"
      ]
     },
     "metadata": {},
     "output_type": "display_data"
    },
    {
     "output_type": "display_data",
     "data": {
      "application/vnd.jupyter.widget-view+json": {
       "model_id": "b134a483185c4c67a603e3d34706b3a2",
       "version_major": 2,
       "version_minor": 0
      },
      "text/plain": [
       "Downloading model.safetensors:   0%|          | 0.00/6.43G [00:00<?, ?B/s]"
      ]
     },
     "metadata": {},
     "output_type": "display_data"
    }
   ],
   "source": [
    "tokenizer_large = GPT2Tokenizer.from_pretrained(\"gpt2-XL\", cache_dir=DA.paths.datasets+\"/models\")\n",
    "model_large = GPT2LMHeadModel.from_pretrained(\"gpt2-XL\", cache_dir=DA.paths.datasets+\"/models\")"
   ]
  },
  {
   "cell_type": "code",
   "execution_count": 0,
   "metadata": {
    "application/vnd.databricks.v1+cell": {
     "cellMetadata": {
      "byteLimit": 2048000,
      "rowLimit": 10000
     },
     "inputWidgets": {},
     "nuid": "32546625-e5e2-431d-9d33-209e1a70f503",
     "showTitle": false,
     "title": ""
    }
   },
   "outputs": [
    {
     "output_type": "stream",
     "name": "stdout",
     "output_type": "stream",
     "text": [
      "This is a MOOC about large language models, I have only just started, but already  a  lot  of  things  are  being  done  very  well ,  such  as  using  semantic  tags  and  a  deep  representation  of  types . \n \n In \nGPT-2 XL completed.\n"
     ]
    }
   ],
   "source": [
    "# Generate text with GPT-2 XL\n",
    "inputs_large = tokenizer_large.encode(prompt, return_tensors=\"pt\")\n",
    "\n",
    "# Add in the attention mask and pad token id\n",
    "attention_mask_large = torch.ones(inputs_large.shape, dtype=torch.long)  # Creating a mask of ones with the same shape as inputs\n",
    "pad_token_id_large = tokenizer_large.eos_token_id  # Get the eos_token_id from the tokenizer\n",
    "\n",
    "print(prompt, end=\" \", flush=True)\n",
    "for _ in range(25):  # Generate 25 words\n",
    "    outputs_large = model_large.generate(inputs_large, max_length=inputs_large.shape[-1]+1, do_sample=True, pad_token_id=pad_token_id_large,\n",
    "                                         attention_mask=attention_mask_large)\n",
    "    generated_word = tokenizer_large.decode(outputs_large[0][-1])\n",
    "    print(generated_word, end=\" \", flush=True)\n",
    "    inputs_large = torch.cat([inputs_large, outputs_large[0][-1].unsqueeze(0).unsqueeze(0)], dim=-1)\n",
    "    attention_mask_large = torch.cat([attention_mask_large, torch.ones((1, 1), dtype=torch.long)], dim=-1)\n",
    "    time.sleep(0.7)\n",
    "print(\"\\nGPT-2 XL completed.\")"
   ]
  },
  {
   "cell_type": "markdown",
   "metadata": {
    "application/vnd.databricks.v1+cell": {
     "cellMetadata": {},
     "inputWidgets": {},
     "nuid": "91811dab-6202-440e-8db0-8c59e13c2d8c",
     "showTitle": false,
     "title": ""
    }
   },
   "source": [
    "&copy; 2023 Databricks, Inc. All rights reserved.<br/>\n",
    "Apache, Apache Spark, Spark and the Spark logo are trademarks of the <a href=\"https://www.apache.org/\">Apache Software Foundation</a>.<br/>\n",
    "<br/>\n",
    "<a href=\"https://databricks.com/privacy-policy\">Privacy Policy</a> | <a href=\"https://databricks.com/terms-of-use\">Terms of Use</a> | <a href=\"https://help.databricks.com/\">Support</a>"
   ]
  }
 ],
 "metadata": {
  "application/vnd.databricks.v1+notebook": {
   "dashboards": [],
   "language": "python",
   "notebookMetadata": {
    "pythonIndentUnit": 2
   },
   "notebookName": "LLM 01 - Transformer Architecture",
   "widgets": {}
  }
 },
 "nbformat": 4,
 "nbformat_minor": 0
}
