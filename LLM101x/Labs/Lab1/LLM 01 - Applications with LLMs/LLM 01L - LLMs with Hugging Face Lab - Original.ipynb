{
 "cells": [
  {
   "cell_type": "markdown",
   "metadata": {
    "application/vnd.databricks.v1+cell": {
     "cellMetadata": {},
     "inputWidgets": {},
     "nuid": "93c558ef-e6cf-4fec-b16c-2798050b7705",
     "showTitle": false,
     "title": ""
    }
   },
   "source": [
    "\n",
    "<div style=\"text-align: center; line-height: 0; padding-top: 9px;\">\n",
    "  <img src=\"https://databricks.com/wp-content/uploads/2018/03/db-academy-rgb-1200px.png\" alt=\"Databricks Learning\" style=\"width: 600px\">\n",
    "</div>"
   ]
  },
  {
   "cell_type": "markdown",
   "metadata": {
    "application/vnd.databricks.v1+cell": {
     "cellMetadata": {},
     "inputWidgets": {},
     "nuid": "0329dc46-091f-4086-bda5-ea945f25694b",
     "showTitle": false,
     "title": ""
    }
   },
   "source": [
    "\n",
    "# LLMs with Hugging Face\n",
    "\n",
    "**Choosing a pre-trained LLM**: In the demo notebook, you saw how to apply pre-trained models to many applications.  You will do that hands-on in this lab, with your main activity being to find a good model for each task.  Use the tips from the lecture and demo to find good models, and don't hesitate to try a few different possibilities.\n",
    "\n",
    "**Understanding LLM pipeline configurations**: At the end of this lab, you will also do a more open-ended exploration of model and tokenizer configurations.\n",
    "\n",
    "### ![Dolly](https://files.training.databricks.com/images/llm/dolly_small.png) Learning Objectives\n",
    "1. Practice finding an existing model for tasks you want to solve with LLMs.\n",
    "1. Understand the basics of model and tokenizer options for tweaking model outputs and performance."
   ]
  },
  {
   "cell_type": "markdown",
   "metadata": {
    "application/vnd.databricks.v1+cell": {
     "cellMetadata": {},
     "inputWidgets": {},
     "nuid": "01825227-3dd8-484b-9d53-1f32ec505ad8",
     "showTitle": false,
     "title": ""
    }
   },
   "source": [
    "\n",
    "## Classroom Setup"
   ]
  },
  {
   "cell_type": "code",
   "execution_count": 0,
   "metadata": {
    "application/vnd.databricks.v1+cell": {
     "cellMetadata": {},
     "inputWidgets": {},
     "nuid": "2c31552a-e522-4c67-b650-c609c45bb24f",
     "showTitle": false,
     "title": ""
    }
   },
   "outputs": [],
   "source": [
    "%run ../Includes/Classroom-Setup"
   ]
  },
  {
   "cell_type": "markdown",
   "metadata": {
    "application/vnd.databricks.v1+cell": {
     "cellMetadata": {},
     "inputWidgets": {},
     "nuid": "07761fd4-d78e-4dc6-b348-968f62a23c3d",
     "showTitle": false,
     "title": ""
    }
   },
   "source": [
    "## Find good models for your tasks\n",
    "\n",
    "In each subsection below, you will solve a given task with an LLM of your choosing.  These tasks vary from straightforward to open-ended:\n",
    "* **Summarization**: There are many summarization models out there, and many are simply plug-and-play.\n",
    "* **Translation**: This task can require more work since models support varying numbers of languages, and in different ways.  Make sure you invoke your chosen model with the right parameters.\n",
    "* **Few-shot learning**: This task is very open-ended, where you hope to demonstrate your goals to the LLM with just a few examples.  Choosing those examples and phrasing your task correctly can be more art than science.\n",
    "\n",
    "Recall these tips from the lecture and demo:\n",
    "* Use the [Hugging Face Hub](https://huggingface.co/models).\n",
    "* Filter by task, license, language, etc. as needed.\n",
    "* If you have limited compute resources, check model sizes to keep execution times lower.\n",
    "* Search for existing examples as well.  It can be helpful to see exactly how models should be loaded and used."
   ]
  },
  {
   "cell_type": "code",
   "execution_count": 0,
   "metadata": {
    "application/vnd.databricks.v1+cell": {
     "cellMetadata": {},
     "inputWidgets": {},
     "nuid": "1ac8fd31-3a35-4791-86aa-b90ee2e207b3",
     "showTitle": false,
     "title": ""
    }
   },
   "outputs": [],
   "source": [
    "from datasets import load_dataset\n",
    "from transformers import pipeline"
   ]
  },
  {
   "cell_type": "markdown",
   "metadata": {
    "application/vnd.databricks.v1+cell": {
     "cellMetadata": {},
     "inputWidgets": {},
     "nuid": "fce15e2a-779d-4d49-a268-bfe9cba26efe",
     "showTitle": false,
     "title": ""
    }
   },
   "source": [
    "### Question 1: Summarization\n",
    "\n",
    "In this section, you will find a model from the Hugging Face Hub for a new summarization problem. **Do not use a T5 model**; find and use a model different from the one we used in the demo notebook.\n",
    "\n",
    "We will use the same [xsum](https://huggingface.co/datasets/xsum) dataset."
   ]
  },
  {
   "cell_type": "code",
   "execution_count": 0,
   "metadata": {
    "application/vnd.databricks.v1+cell": {
     "cellMetadata": {},
     "inputWidgets": {},
     "nuid": "08056c50-bca3-4c80-8224-a44b7d694841",
     "showTitle": false,
     "title": ""
    }
   },
   "outputs": [],
   "source": [
    "xsum_dataset = load_dataset(\n",
    "    \"xsum\", version=\"1.2.0\", cache_dir=DA.paths.datasets\n",
    ")  # Note: We specify cache_dir to use predownloaded data.\n",
    "xsum_sample = xsum_dataset[\"train\"].select(range(10))\n",
    "display(xsum_sample.to_pandas())"
   ]
  },
  {
   "cell_type": "markdown",
   "metadata": {
    "application/vnd.databricks.v1+cell": {
     "cellMetadata": {},
     "inputWidgets": {},
     "nuid": "93f53cfa-5890-4f8e-b504-a8ada185af5a",
     "showTitle": false,
     "title": ""
    }
   },
   "source": [
    "Similarly to how we found and applied a model for summarization previously, fill in the missing parts below to create a pipeline using an existing LLM---but with a different model.  Then apply the pipeline to the sample batch of articles."
   ]
  },
  {
   "cell_type": "code",
   "execution_count": 0,
   "metadata": {
    "application/vnd.databricks.v1+cell": {
     "cellMetadata": {},
     "inputWidgets": {},
     "nuid": "54f9601b-3a0f-414d-bfd3-7f01dd77fccc",
     "showTitle": false,
     "title": ""
    }
   },
   "outputs": [],
   "source": [
    "# TODO\n",
    "\n",
    "# Constructor a summarization pipeline\n",
    "summarizer = <FILL_IN>\n",
    "\n",
    "# Apply the pipeline to the batch of articles in `xsum_sample`\n",
    "summarization_results = <FILL_IN>\n",
    "summarization_results"
   ]
  },
  {
   "cell_type": "code",
   "execution_count": 0,
   "metadata": {
    "application/vnd.databricks.v1+cell": {
     "cellMetadata": {},
     "inputWidgets": {},
     "nuid": "5a7c90ce-b964-41da-b827-104e5f99d9d6",
     "showTitle": false,
     "title": ""
    }
   },
   "outputs": [],
   "source": [
    "# Test your answer. DO NOT MODIFY THIS CELL.\n",
    "\n",
    "dbTestQuestion1_1(summarizer, summarization_results, xsum_sample[\"document\"])"
   ]
  },
  {
   "cell_type": "code",
   "execution_count": 0,
   "metadata": {
    "application/vnd.databricks.v1+cell": {
     "cellMetadata": {},
     "inputWidgets": {},
     "nuid": "a6742515-5990-47e2-88cb-b5599119147b",
     "showTitle": false,
     "title": ""
    }
   },
   "outputs": [],
   "source": [
    "# Display the generated summary side-by-side with the reference summary and original document.\n",
    "import pandas as pd\n",
    "\n",
    "display(\n",
    "    pd.DataFrame.from_dict(summarization_results)\n",
    "    .rename({\"summary_text\": \"generated_summary\"}, axis=1)\n",
    "    .join(pd.DataFrame.from_dict(xsum_sample))[\n",
    "        [\"generated_summary\", \"summary\", \"document\"]\n",
    "    ]\n",
    ")"
   ]
  },
  {
   "cell_type": "markdown",
   "metadata": {
    "application/vnd.databricks.v1+cell": {
     "cellMetadata": {},
     "inputWidgets": {},
     "nuid": "c541d42a-adfb-4846-af7e-a68778c93744",
     "showTitle": false,
     "title": ""
    }
   },
   "source": [
    "### Question 2: Translation\n",
    "\n",
    "In this section, you will find a model from the Hugging Face Hub for a new translation problem.\n",
    "\n",
    "We will use the [Helsinki-NLP/tatoeba_mt](https://huggingface.co/datasets/Helsinki-NLP/tatoeba_mt) dataset.  It includes sentence pairs from many languages, but we will focus on translating Japanese to English.\n",
    "\n",
    "Hints in case you feel stuck on this task:\n",
    "* Some models can handle *a lot* of languages.  Check out [NLLB](https://huggingface.co/docs/transformers/model_doc/nllb), the No Language Left Behind model ([research paper](https://arxiv.org/abs/2207.04672)).\n",
    "* The \"translation\" task for `pipeline` takes optional parameters `src_lang` (source language) and `tgt_lang` (target language), which are important when the model can handle multiple languages.  To figure out what codes to use to specify languages (and scripts for those languages), it can be helpful to find existing examples of using your model; for NLLB, check out [this Python script with codes](https://huggingface.co/spaces/Geonmo/nllb-translation-demo/blob/main/flores200_codes.py) or similar demo resources.\n"
   ]
  },
  {
   "cell_type": "code",
   "execution_count": 0,
   "metadata": {
    "application/vnd.databricks.v1+cell": {
     "cellMetadata": {},
     "inputWidgets": {},
     "nuid": "ca8c5df4-b2e0-4c31-b3bf-cc8906458ad8",
     "showTitle": false,
     "title": ""
    }
   },
   "outputs": [],
   "source": [
    "jpn_dataset = load_dataset(\n",
    "    \"Helsinki-NLP/tatoeba_mt\",\n",
    "    \"eng-jpn_Hani\",\n",
    "    cache_dir=DA.paths.datasets,\n",
    ")\n",
    "jpn_sample = (\n",
    "    jpn_dataset[\"test\"]\n",
    "    .select(range(10))\n",
    "    .rename_column(\"sourceString\", \"English\")\n",
    "    .rename_column(\"targetString\", \"Japanese\")\n",
    "    .remove_columns([\"sourceLang\", \"targetlang\"])\n",
    ")\n",
    "display(jpn_sample.to_pandas())"
   ]
  },
  {
   "cell_type": "markdown",
   "metadata": {
    "application/vnd.databricks.v1+cell": {
     "cellMetadata": {},
     "inputWidgets": {},
     "nuid": "d241ff3a-6db8-448c-90df-94fa0b1176fa",
     "showTitle": false,
     "title": ""
    }
   },
   "source": [
    "\n",
    "Similarly to how we previously found and applied a model for translation among other languages, you must now find a model to translate from Japanese to English.  Fill in the missing parts below to create a pipeline using an existing LLM.  Then apply the pipeline to the sample batch of Japanese sentences."
   ]
  },
  {
   "cell_type": "code",
   "execution_count": 0,
   "metadata": {
    "application/vnd.databricks.v1+cell": {
     "cellMetadata": {},
     "inputWidgets": {},
     "nuid": "37fde820-297e-478c-963e-f17c79a9df8e",
     "showTitle": false,
     "title": ""
    }
   },
   "outputs": [],
   "source": [
    "# TODO\n",
    "\n",
    "# Construct a pipeline for translating Japanese to English.\n",
    "translation_pipeline = <FILL_IN>\n",
    "\n",
    "# Apply your pipeline on the sample of Japanese text in: jpn_sample[\"Japanese\"]\n",
    "translation_results = translation_pipeline(jpn_sample[\"Japanese\"])"
   ]
  },
  {
   "cell_type": "code",
   "execution_count": 0,
   "metadata": {
    "application/vnd.databricks.v1+cell": {
     "cellMetadata": {},
     "inputWidgets": {},
     "nuid": "063d4efc-c2c9-4057-9307-7b3c8b17213a",
     "showTitle": false,
     "title": ""
    }
   },
   "outputs": [],
   "source": [
    "# Test your answer. DO NOT MODIFY THIS CELL.\n",
    "\n",
    "dbTestQuestion1_2(translation_pipeline, translation_results, jpn_sample[\"Japanese\"])"
   ]
  },
  {
   "cell_type": "code",
   "execution_count": 0,
   "metadata": {
    "application/vnd.databricks.v1+cell": {
     "cellMetadata": {},
     "inputWidgets": {},
     "nuid": "a1087db7-73cf-4a3e-b5e5-7d7d62bb4b9f",
     "showTitle": false,
     "title": ""
    }
   },
   "outputs": [],
   "source": [
    "# Now we can display your translations side-by-side with the ground-truth `English` column from the dataset.\n",
    "translation_results_df = pd.DataFrame.from_dict(translation_results).join(\n",
    "    jpn_sample.to_pandas()\n",
    ")\n",
    "display(translation_results_df)"
   ]
  },
  {
   "cell_type": "markdown",
   "metadata": {
    "application/vnd.databricks.v1+cell": {
     "cellMetadata": {},
     "inputWidgets": {},
     "nuid": "f7b0b6ae-21a9-4d22-9a1c-5adfb105656a",
     "showTitle": false,
     "title": ""
    }
   },
   "source": [
    "### Question 3: Few-shot learning\n",
    "\n",
    "In this section, you will build a prompt which gets an LLM to answer a few-shot learning problem.  Your prompt will have 3 sections:\n",
    "\n",
    "1. High-level instruction about the task\n",
    "1. Examples of query-answer pairs for the LLM to learn from\n",
    "1. New query\n",
    "\n",
    "Your goal is to make the LLM answer the new query, with as good a response as possible.\n",
    "\n",
    "More specifically, your prompt should follow this template:\n",
    "```\n",
    "<High-level instruction about the task: Given input_label, generate output_label.>:\n",
    "\n",
    "[<input_label>]: \"<input text>\"\n",
    "[<output_label>]: \"<output_text>\"\n",
    "###\n",
    "[<input_label>]: \"<input text>\"\n",
    "[<output_label>]: \"<output_text>\"\n",
    "###\n",
    "[<input_label>]: \"<input text>\"\n",
    "[<output_label>]:\n",
    "```\n",
    "where the final two lines represent the new query.\n",
    "\n",
    "It is up to you to choose a task, but here are some ideas:\n",
    "* Translation: This is easy but less interesting since there are already models fine-tuned for translation.  You can generate examples via a tool like Google Translate.\n",
    "* Create book titles or descriptions: Given a book title, generate a description, or vice versa.  You can get examples off of Wikipedia.\n",
    "* Generate tweets: Given keywords or a key message, generate a tweet.\n",
    "* Identify the subject: Given a sentence, extract the noun or name of the subject of the sentence.\n",
    "\n",
    "*Please **do not** copy examples from the demo notebook.*\n",
    "\n",
    "Tips:\n",
    "* If the model gives bad outputs with only 1 or 2 examples, try adding more.  3 or 4 examples can be much better than 1 or 2.\n",
    "* Not all tasks are equally difficult.  If your task is too challenging, try a different one."
   ]
  },
  {
   "cell_type": "code",
   "execution_count": 0,
   "metadata": {
    "application/vnd.databricks.v1+cell": {
     "cellMetadata": {},
     "inputWidgets": {},
     "nuid": "06a40a57-7576-4ffc-b88d-486872991d05",
     "showTitle": false,
     "title": ""
    }
   },
   "outputs": [],
   "source": [
    "few_shot_pipeline = pipeline(\n",
    "    task=\"text-generation\",\n",
    "    model=\"EleutherAI/gpt-neo-1.3B\",\n",
    "    max_new_tokens=50,\n",
    "    model_kwargs={\"cache_dir\": DA.paths.datasets},\n",
    ")  # Use a predownloaded model\n",
    "\n",
    "# Get the token ID for \"###\", which we will use as the EOS token below.  (Recall we did this in the demo notebook.)\n",
    "eos_token_id = few_shot_pipeline.tokenizer.encode(\"###\")[0]"
   ]
  },
  {
   "cell_type": "markdown",
   "metadata": {
    "application/vnd.databricks.v1+cell": {
     "cellMetadata": {},
     "inputWidgets": {},
     "nuid": "89710c3c-053b-4d1c-8e03-e982578a636b",
     "showTitle": false,
     "title": ""
    }
   },
   "source": [
    "\n",
    "Fill in the template below.  Feel free to adjust the number of examples."
   ]
  },
  {
   "cell_type": "code",
   "execution_count": 0,
   "metadata": {
    "application/vnd.databricks.v1+cell": {
     "cellMetadata": {},
     "inputWidgets": {},
     "nuid": "9d3f7f74-33b6-4361-9ea4-01012de71143",
     "showTitle": false,
     "title": ""
    }
   },
   "outputs": [],
   "source": [
    "# TODO\n",
    "\n",
    "# Fill in this template.\n",
    "\n",
    "prompt =\\\n",
    "\"\"\"<High-level instruction about the task>:\n",
    "\n",
    "[<input_label>]: \"<input text>\"\n",
    "[<output_label>]: \"<output_text>\"\n",
    "###\n",
    "[<input_label>]: \"<input text>\"\n",
    "[<output_label>]: \"<output_text>\"\n",
    "###\n",
    "[<input_label>]: \"<input text>\"\n",
    "[<output_label>]:\"\"\""
   ]
  },
  {
   "cell_type": "code",
   "execution_count": 0,
   "metadata": {
    "application/vnd.databricks.v1+cell": {
     "cellMetadata": {},
     "inputWidgets": {},
     "nuid": "f486e726-03b8-4677-a546-973ffba4f64f",
     "showTitle": false,
     "title": ""
    }
   },
   "outputs": [],
   "source": [
    "results = few_shot_pipeline(prompt, do_sample=True, eos_token_id=eos_token_id)\n",
    "\n",
    "print(results[0][\"generated_text\"])"
   ]
  },
  {
   "cell_type": "code",
   "execution_count": 0,
   "metadata": {
    "application/vnd.databricks.v1+cell": {
     "cellMetadata": {},
     "inputWidgets": {},
     "nuid": "77f614c2-5423-4b98-81b8-4fba6dbb8937",
     "showTitle": false,
     "title": ""
    }
   },
   "outputs": [],
   "source": [
    "# Test your answer. DO NOT MODIFY THIS CELL.\n",
    "\n",
    "dbTestQuestion1_3(few_shot_pipeline, prompt, results[0][\"generated_text\"])"
   ]
  },
  {
   "cell_type": "markdown",
   "metadata": {
    "application/vnd.databricks.v1+cell": {
     "cellMetadata": {},
     "inputWidgets": {},
     "nuid": "ce7f853b-4ff2-4ff1-9769-b2d837003a59",
     "showTitle": false,
     "title": ""
    }
   },
   "source": [
    "## Explore model and tokenizer settings\n",
    "\n",
    "So far, we have used pipelines in a very basic way, without worrying about configuration options.  In this section, you will explore the various options for models and tokenizers to learn how they affect LLM behavior.\n",
    "\n",
    "We will load a dataset, tokenizer, and model for you.  We will also define a helper method for printing out results nicely."
   ]
  },
  {
   "cell_type": "code",
   "execution_count": 0,
   "metadata": {
    "application/vnd.databricks.v1+cell": {
     "cellMetadata": {},
     "inputWidgets": {},
     "nuid": "a16b3a3f-3769-4958-853e-2d43f2138f1d",
     "showTitle": false,
     "title": ""
    }
   },
   "outputs": [],
   "source": [
    "# Load data, tokenizer, and model.\n",
    "\n",
    "from transformers import T5Tokenizer, T5ForConditionalGeneration\n",
    "\n",
    "xsum_dataset = load_dataset(\"xsum\", version=\"1.2.0\", cache_dir=DA.paths.datasets)\n",
    "xsum_sample = xsum_dataset[\"train\"].select(range(10))\n",
    "\n",
    "tokenizer = T5Tokenizer.from_pretrained(\"t5-small\", cache_dir=DA.paths.datasets)\n",
    "model = T5ForConditionalGeneration.from_pretrained(\n",
    "    \"t5-small\", cache_dir=DA.paths.datasets\n",
    ")\n",
    "\n",
    "# Prepare articles for T5, which requires a \"summarize: \" prefix.\n",
    "articles = list(map(lambda article: \"summarize: \" + article, xsum_sample[\"document\"]))"
   ]
  },
  {
   "cell_type": "code",
   "execution_count": 0,
   "metadata": {
    "application/vnd.databricks.v1+cell": {
     "cellMetadata": {},
     "inputWidgets": {},
     "nuid": "b1e224fb-86f4-4e3e-83de-80ef49a5c39e",
     "showTitle": false,
     "title": ""
    }
   },
   "outputs": [],
   "source": [
    "def display_summaries(decoded_summaries: list) -> None:\n",
    "    \"\"\"Helper method to display ground-truth and generated summaries side-by-side\"\"\"\n",
    "    results_df = pd.DataFrame(zip(xsum_sample[\"summary\"], decoded_summaries))\n",
    "    results_df.columns = [\"Summary\", \"Generated\"]\n",
    "    display(results_df)"
   ]
  },
  {
   "cell_type": "markdown",
   "metadata": {
    "application/vnd.databricks.v1+cell": {
     "cellMetadata": {},
     "inputWidgets": {},
     "nuid": "c751445a-2ae4-46b9-a6cf-a35c8465f91d",
     "showTitle": false,
     "title": ""
    }
   },
   "source": [
    "### Open-ended exploration\n",
    "\n",
    "In the cells below, we provide code for running the tokenizer and model on the articles.  Your task is to play around with the various configurations to gain more intuition about the effects.  Look for changes to output quality and running time in particular, and remember that running the same code twice may result in different answers.\n",
    "\n",
    "Below, we list brief descriptions of each of the parameters you may wish to tweak.\n",
    "* Tokenizer encoding\n",
    "  * `max_length`: This caps the maximum input length.  It must be at or below the model's input length limit.\n",
    "  * `return_tensors`: Do not change this one.  This tells Hugging Face to return tensors in PyTorch (\"pt\") format.\n",
    "* Model\n",
    "  * `do_sample`: True or False.  This tells the model whether or not to use sampling in generation.  If False, then it will do greedy search or beam search.  If True, then it will do random sampling which can optionally use the top-p and/or top-k sampling techniques.  See the blog post linked below for more details on sampling techniques.\n",
    "  * `num_beams`: (for beam search) This specifies the number of beams to use in beam search across possible sequences.  Increasing the number can help the model to find better sequences, at the cost of more computation.\n",
    "  * `min_length`, `max_length`: Generative models can be instructed to generate new text between these token lengths.\n",
    "  * `top_k`: (for sampling) This controls the use of top-K sampling, which forces sampling to ignore low-probability tokens by limiting to the K most probable next tokens.  Set to 0 to disable top-K sampling.\n",
    "  * `top_p`: (for sampling) This controls the use of top-p sampling, which forces sampling to ignore low-probability tokens by limiting to the top tokens making up probability mass p.  Set to 0 to disable top-p sampling.\n",
    "  * `temperature`: (for sampling) This controls the \"temperature\" of the softmax.  Lower values bias further towards high-probability next tokens.  Setting to 0 makes sampling equivalent to greedy search.\n",
    "* Tokenizer decoding\n",
    "  * `skip_special_tokens`: True or False.  This allows you to skip special tokens (like EOS tokens) in the model outputs.\n",
    "\n",
    "Do not tweak:\n",
    "* Tokenizer encoding\n",
    "  * `padding`: True or False.  This helps to handle variable-length inputs by adding padding to short inputs.  Since it should be set according to your task and data, you should not change it for this exercise (unless you want to see what warnings or error may appear).\n",
    "  * `truncation`: True or False.  This helps to handle variable-length inputs by truncating very long inputs.  Since it should be set according to your task and data, you should not change it for this exercise (unless you want to see what warnings or error may appear).\n",
    "\n",
    "If you need more info about the parameters of methods, see the `help()` calls in cells below, or search the Hugging Face docs.  Some top links are:\n",
    "* Tokenizer call for encoding: [PreTrainedTokenizerBase.\\_\\_call\\_\\_ API docs](https://huggingface.co/docs/transformers/v4.28.1/en/internal/tokenization_utils#transformers.PreTrainedTokenizerBase.__call__)\n",
    "* Model invocation: [Docs for generation strategies](https://huggingface.co/docs/transformers/main/en/generation_strategies) and this blog post on [\"How to generate text: using different decoding methods for language generation with Transformers\"](https://huggingface.co/blog/how-to-generate)\n",
    "\n",
    "If you mess up and can't get back to a working state, you can use the Revision History to revert your changes.\n",
    "Access that via the clock-like icon or \"Revision History\" button in the top-right of this notebook page. (See screenshot below.)\n",
    "\n",
    "![Screenshot of notebook Revision History](https://files.training.databricks.com/images/llm/revision_history.png)"
   ]
  },
  {
   "cell_type": "code",
   "execution_count": 0,
   "metadata": {
    "application/vnd.databricks.v1+cell": {
     "cellMetadata": {},
     "inputWidgets": {},
     "nuid": "0eca4dfb-bda3-4996-a666-bcf8ba88ec2e",
     "showTitle": false,
     "title": ""
    }
   },
   "outputs": [],
   "source": [
    "##############################################################################\n",
    "# TODO: Try editing the parameters in this section, and see how they affect the results.\n",
    "#       You can also copy and edit the cell to compare results across different parameter settings.\n",
    "#\n",
    "# We show all parameter settings for ease-of-modification, but in practice, you would only set relevant ones.\n",
    "inputs = tokenizer(\n",
    "    articles, max_length=1024, return_tensors=\"pt\", padding=True, truncation=True\n",
    ")\n",
    "\n",
    "summary_ids = model.generate(\n",
    "    inputs.input_ids,\n",
    "    attention_mask=inputs.attention_mask,\n",
    "    do_sample=True,\n",
    "    num_beams=2,\n",
    "    min_length=0,\n",
    "    max_length=40,\n",
    "    top_k=20,\n",
    "    top_p=0.5,\n",
    "    temperature=0.7,\n",
    ")\n",
    "\n",
    "decoded_summaries = tokenizer.batch_decode(summary_ids, skip_special_tokens=True)\n",
    "##############################################################################\n",
    "\n",
    "display_summaries(decoded_summaries)"
   ]
  },
  {
   "cell_type": "markdown",
   "metadata": {
    "application/vnd.databricks.v1+cell": {
     "cellMetadata": {},
     "inputWidgets": {},
     "nuid": "016c04e0-0b3b-4bdd-841d-7da11692a375",
     "showTitle": false,
     "title": ""
    }
   },
   "source": [
    "Uncomment `help()` calls below as needed to see doc strings for stages of the pipeline."
   ]
  },
  {
   "cell_type": "code",
   "execution_count": 0,
   "metadata": {
    "application/vnd.databricks.v1+cell": {
     "cellMetadata": {},
     "inputWidgets": {},
     "nuid": "aecdce2f-e2ec-45b9-b926-606a8abe116f",
     "showTitle": false,
     "title": ""
    }
   },
   "outputs": [],
   "source": [
    "# Options for calling the tokenizer (lots to see here)\n",
    "# help(tokenizer.__call__)"
   ]
  },
  {
   "cell_type": "code",
   "execution_count": 0,
   "metadata": {
    "application/vnd.databricks.v1+cell": {
     "cellMetadata": {},
     "inputWidgets": {},
     "nuid": "f229993b-952b-4730-8736-d944175c816a",
     "showTitle": false,
     "title": ""
    }
   },
   "outputs": [],
   "source": [
    "# Options for invoking the model (lots to see here)\n",
    "# help(model.generate)"
   ]
  },
  {
   "cell_type": "code",
   "execution_count": 0,
   "metadata": {
    "application/vnd.databricks.v1+cell": {
     "cellMetadata": {},
     "inputWidgets": {},
     "nuid": "12a3cfcd-1ac3-43a3-9084-159000ef2bb2",
     "showTitle": false,
     "title": ""
    }
   },
   "outputs": [],
   "source": [
    "# Options for calling the tokenizer for decoding (not much to see here)\n",
    "# help(tokenizer.batch_decode)"
   ]
  },
  {
   "cell_type": "markdown",
   "metadata": {
    "application/vnd.databricks.v1+cell": {
     "cellMetadata": {},
     "inputWidgets": {},
     "nuid": "f09e4b3e-1fd5-4840-9e28-da4f990cadee",
     "showTitle": false,
     "title": ""
    }
   },
   "source": [
    "## Submit your Results (edX Verified Only)\n",
    "\n",
    "To get credit for this lab, click the submit button in the top right to report the results. If you run into any issues, click `Run` -> `Clear state and run all`, and make sure all tests have passed before re-submitting. If you accidentally deleted any tests, take a look at the notebook's version history to recover them or reload the notebooks."
   ]
  },
  {
   "cell_type": "markdown",
   "metadata": {
    "application/vnd.databricks.v1+cell": {
     "cellMetadata": {},
     "inputWidgets": {},
     "nuid": "3246176b-f8b4-4ca6-9bef-31e95b2c4df2",
     "showTitle": false,
     "title": ""
    }
   },
   "source": [
    "&copy; 2023 Databricks, Inc. All rights reserved.<br/>\n",
    "Apache, Apache Spark, Spark and the Spark logo are trademarks of the <a href=\"https://www.apache.org/\">Apache Software Foundation</a>.<br/>\n",
    "<br/>\n",
    "<a href=\"https://databricks.com/privacy-policy\">Privacy Policy</a> | <a href=\"https://databricks.com/terms-of-use\">Terms of Use</a> | <a href=\"https://help.databricks.com/\">Support</a>"
   ]
  }
 ],
 "metadata": {
  "application/vnd.databricks.v1+notebook": {
   "dashboards": [],
   "language": "python",
   "notebookMetadata": {
    "pythonIndentUnit": 2
   },
   "notebookName": "LLM 01L - LLMs with Hugging Face Lab",
   "widgets": {}
  }
 },
 "nbformat": 4,
 "nbformat_minor": 0
}
