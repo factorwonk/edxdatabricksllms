{
 "cells": [
  {
   "cell_type": "markdown",
   "metadata": {
    "application/vnd.databricks.v1+cell": {
     "cellMetadata": {},
     "inputWidgets": {},
     "nuid": "ab287d47-af3b-4eb1-9f34-2aa4aa58f425",
     "showTitle": false,
     "title": ""
    }
   },
   "source": [
    "\n",
    "<div style=\"text-align: center; line-height: 0; padding-top: 9px;\">\n",
    "  <img src=\"https://databricks.com/wp-content/uploads/2018/03/db-academy-rgb-1200px.png\" alt=\"Databricks Learning\" style=\"width: 600px\">\n",
    "</div>"
   ]
  },
  {
   "cell_type": "markdown",
   "metadata": {
    "application/vnd.databricks.v1+cell": {
     "cellMetadata": {},
     "inputWidgets": {},
     "nuid": "9c780312-7d6c-4c89-ba66-61452b428b99",
     "showTitle": false,
     "title": ""
    }
   },
   "source": [
    "\n",
    "# LLMs and Society Lab\n",
    "\n",
    "### ![Dolly](https://files.training.databricks.com/images/llm/dolly_small.png) Learning Objectives\n",
    "1. Learn how to evaluate polarity towards certain demographic groups using `regard`\n",
    "    - We will first evaluate whether dancers are regarded differently from scientists\n",
    "    - You will then compute `regard` with other groups of your choice\n",
    "2. Test your language model by changing text using `sparknlp` "
   ]
  },
  {
   "cell_type": "code",
   "execution_count": 0,
   "metadata": {
    "application/vnd.databricks.v1+cell": {
     "cellMetadata": {},
     "inputWidgets": {},
     "nuid": "acb2da41-c8d4-4ac1-b615-22babdb97b2b",
     "showTitle": false,
     "title": ""
    }
   },
   "outputs": [],
   "source": [
    "%pip install nlptest==1.4.0"
   ]
  },
  {
   "cell_type": "markdown",
   "metadata": {
    "application/vnd.databricks.v1+cell": {
     "cellMetadata": {},
     "inputWidgets": {},
     "nuid": "dec16a66-3f21-4261-8f7b-279dcc85aa12",
     "showTitle": false,
     "title": ""
    }
   },
   "source": [
    "\n",
    "## Classroom Setup"
   ]
  },
  {
   "cell_type": "code",
   "execution_count": 0,
   "metadata": {
    "application/vnd.databricks.v1+cell": {
     "cellMetadata": {},
     "inputWidgets": {},
     "nuid": "704162b5-4a02-44eb-be54-335f95370033",
     "showTitle": false,
     "title": ""
    }
   },
   "outputs": [],
   "source": [
    "%run ../Includes/Classroom-Setup"
   ]
  },
  {
   "cell_type": "markdown",
   "metadata": {
    "application/vnd.databricks.v1+cell": {
     "cellMetadata": {},
     "inputWidgets": {},
     "nuid": "a0ec0269-878c-401b-ac1d-31a431076203",
     "showTitle": false,
     "title": ""
    }
   },
   "source": [
    "## Evaluate Regard \n",
    "\n",
    "We will use the [BOLD dataset](https://huggingface.co/datasets/AlexaAI/bold), created by Alexa AI, that allows us to evaluate model fairness in English text generation. Specifically, we will use categories within this dataset to prompt the language model for text completion. Some example categories include:\n",
    "- gender \n",
    "- professions\n",
    "- religions\n",
    "\n",
    "Continuing from the demo, we will use the same `evaluate` library from Hugging Face, but leverage a separate module called `regard`. We evaluate model fairness from the angle of polarity or perception to see if one group is assigned a higher regard score than the other.  "
   ]
  },
  {
   "cell_type": "code",
   "execution_count": 0,
   "metadata": {
    "application/vnd.databricks.v1+cell": {
     "cellMetadata": {},
     "inputWidgets": {},
     "nuid": "69119dc6-0aee-4820-b7a5-00cc34217d5f",
     "showTitle": false,
     "title": ""
    }
   },
   "outputs": [],
   "source": [
    "from datasets import load_dataset\n",
    "\n",
    "bold = load_dataset(\n",
    "    \"AlexaAI/bold\", split=\"train\", cache_dir=DA.paths.datasets\n",
    ")  # Note: We specify cache_dir to use pre-cached data."
   ]
  },
  {
   "cell_type": "markdown",
   "metadata": {
    "application/vnd.databricks.v1+cell": {
     "cellMetadata": {},
     "inputWidgets": {},
     "nuid": "2191d86e-6e5a-40fe-aadd-2d96c106b55a",
     "showTitle": false,
     "title": ""
    }
   },
   "source": [
    "In this exercise, we will examine whether people in the `dance_occupations` are regarded any differently than those in `scientific_occupations`."
   ]
  },
  {
   "cell_type": "code",
   "execution_count": 0,
   "metadata": {
    "application/vnd.databricks.v1+cell": {
     "cellMetadata": {},
     "inputWidgets": {},
     "nuid": "e69f4ac7-96bc-458b-900b-79742bb78f24",
     "showTitle": false,
     "title": ""
    }
   },
   "outputs": [],
   "source": [
    "from random import sample\n",
    "\n",
    "def generate_samples(category_name: str, n: int) -> list:\n",
    "    \"\"\"\n",
    "    Given a category, returns `n` samples\n",
    "    \"\"\"\n",
    "    bold_samples = sample([p for p in bold if p[\"category\"] == category_name], n)\n",
    "    return bold_samples\n",
    "\n",
    "science_bold = generate_samples(\"scientific_occupations\", 10)\n",
    "dance_bold = generate_samples(\"dance_occupations\", 10)\n",
    "\n",
    "print(\"Science example: \", science_bold[0])\n",
    "print(\"-\" * 60)\n",
    "print(\"Dance example: \", dance_bold[0])"
   ]
  },
  {
   "cell_type": "markdown",
   "metadata": {
    "application/vnd.databricks.v1+cell": {
     "cellMetadata": {},
     "inputWidgets": {},
     "nuid": "f2a5c8cd-a9e2-4c40-9d0e-82fa4a701405",
     "showTitle": false,
     "title": ""
    }
   },
   "source": [
    "\n",
    "### Question 1\n",
    "Now, it's your turn to generate some samples. Run the following cell to get a complete list of categories covered by BOLD.\n",
    "\n",
    "If you need inspiration, try `American_actors` and `American_actresses`."
   ]
  },
  {
   "cell_type": "code",
   "execution_count": 0,
   "metadata": {
    "application/vnd.databricks.v1+cell": {
     "cellMetadata": {},
     "inputWidgets": {},
     "nuid": "131630eb-ae06-47ca-9fbd-880059abe388",
     "showTitle": false,
     "title": ""
    }
   },
   "outputs": [],
   "source": [
    "import numpy as np\n",
    "\n",
    "np.unique(bold[\"category\"])"
   ]
  },
  {
   "cell_type": "code",
   "execution_count": 0,
   "metadata": {
    "application/vnd.databricks.v1+cell": {
     "cellMetadata": {},
     "inputWidgets": {},
     "nuid": "711c982c-621a-42ec-9686-f3d39c20f638",
     "showTitle": false,
     "title": ""
    }
   },
   "outputs": [],
   "source": [
    "# TODO\n",
    "\n",
    "# Generate samples from BOLD dataset\n",
    "group1_bold = generate_samples(\"<FILL_IN>\", 10)\n",
    "group2_bold = generate_samples(\"<FILL_IN>\", 10)"
   ]
  },
  {
   "cell_type": "code",
   "execution_count": 0,
   "metadata": {
    "application/vnd.databricks.v1+cell": {
     "cellMetadata": {},
     "inputWidgets": {},
     "nuid": "527a8870-aed5-4861-9eec-eb47c636f25e",
     "showTitle": false,
     "title": ""
    }
   },
   "outputs": [],
   "source": [
    "# Test your answer. DO NOT MODIFY THIS CELL.\n",
    "\n",
    "dbTestQuestion5_1(group1_bold, group2_bold)"
   ]
  },
  {
   "cell_type": "markdown",
   "metadata": {
    "application/vnd.databricks.v1+cell": {
     "cellMetadata": {},
     "inputWidgets": {},
     "nuid": "c36e2522-838f-45cf-98e4-61043f50c7ec",
     "showTitle": false,
     "title": ""
    }
   },
   "source": [
    "Now, let's get some prompts from each of the categories"
   ]
  },
  {
   "cell_type": "code",
   "execution_count": 0,
   "metadata": {
    "application/vnd.databricks.v1+cell": {
     "cellMetadata": {},
     "inputWidgets": {},
     "nuid": "c9adfd5c-54ba-4b46-bb6f-cbe3b7697534",
     "showTitle": false,
     "title": ""
    }
   },
   "outputs": [],
   "source": [
    "science_prompts = [p[\"prompts\"][0] for p in science_bold]\n",
    "dance_prompts = [p[\"prompts\"][0] for p in dance_bold]\n",
    "print(\"Science prompt example: \", science_prompts[0])\n",
    "print(\"Dance prompt example: \", dance_prompts[0])"
   ]
  },
  {
   "cell_type": "markdown",
   "metadata": {
    "application/vnd.databricks.v1+cell": {
     "cellMetadata": {},
     "inputWidgets": {},
     "nuid": "e1a8622c-20f3-48d8-ac51-cb6239b8f0a1",
     "showTitle": false,
     "title": ""
    }
   },
   "source": [
    "\n",
    "### Question 2\n",
    "It's your turn to get prompts from the samples."
   ]
  },
  {
   "cell_type": "code",
   "execution_count": 0,
   "metadata": {
    "application/vnd.databricks.v1+cell": {
     "cellMetadata": {},
     "inputWidgets": {},
     "nuid": "c3365dfe-3203-4473-a3f8-844d182b181f",
     "showTitle": false,
     "title": ""
    }
   },
   "outputs": [],
   "source": [
    "# TODO\n",
    "\n",
    "group1_prompts = [p[\"prompts\"][0] for p in <FILL_IN>]\n",
    "group2_prompts = [p[\"prompts\"][0] for p in <FILL_IN>]"
   ]
  },
  {
   "cell_type": "code",
   "execution_count": 0,
   "metadata": {
    "application/vnd.databricks.v1+cell": {
     "cellMetadata": {},
     "inputWidgets": {},
     "nuid": "f5f12874-20f6-4351-9865-ca35deee513e",
     "showTitle": false,
     "title": ""
    }
   },
   "outputs": [],
   "source": [
    "# Test your answer. DO NOT MODIFY THIS CELL.\n",
    "\n",
    "dbTestQuestion5_2(group1_prompts, group2_prompts)"
   ]
  },
  {
   "cell_type": "markdown",
   "metadata": {
    "application/vnd.databricks.v1+cell": {
     "cellMetadata": {},
     "inputWidgets": {},
     "nuid": "c3753a24-db66-41e8-9d4a-7483ccc7f7a2",
     "showTitle": false,
     "title": ""
    }
   },
   "source": [
    "Let's put GPT-2 to test. Does our model complete the sentences with equal regard for both the scientist and the dancer? "
   ]
  },
  {
   "cell_type": "code",
   "execution_count": 0,
   "metadata": {
    "application/vnd.databricks.v1+cell": {
     "cellMetadata": {},
     "inputWidgets": {},
     "nuid": "dd571ce4-e708-4fd1-a1bf-dd12886ad535",
     "showTitle": false,
     "title": ""
    }
   },
   "outputs": [],
   "source": [
    "from transformers import pipeline, AutoTokenizer\n",
    "\n",
    "text_generation = pipeline(\n",
    "    \"text-generation\", model=\"gpt2\", model_kwargs={\"cache_dir\": DA.paths.datasets}\n",
    ")  # Note: We specify cache_dir to use a pre-cached model.\n",
    "\n",
    "def complete_sentence(text_generation_pipeline: pipeline, prompts: list) -> list:\n",
    "    \"\"\"\n",
    "    Via a list of prompts a prompt list is appended to by the generated `text_generation_pipeline`.\n",
    "    \"\"\"\n",
    "    prompt_continuations = []\n",
    "    for prompt in prompts:\n",
    "        generation = text_generation_pipeline(\n",
    "            prompt, max_length=30, do_sample=False, pad_token_id=50256\n",
    "        )\n",
    "        continuation = generation[0][\"generated_text\"].replace(prompt, \"\")\n",
    "        prompt_continuations.append(continuation)\n",
    "    return prompt_continuations"
   ]
  },
  {
   "cell_type": "markdown",
   "metadata": {
    "application/vnd.databricks.v1+cell": {
     "cellMetadata": {},
     "inputWidgets": {},
     "nuid": "2f8774bc-4f22-4571-96e0-9965380398bc",
     "showTitle": false,
     "title": ""
    }
   },
   "source": [
    "We will now complete the sentences for the dancers."
   ]
  },
  {
   "cell_type": "code",
   "execution_count": 0,
   "metadata": {
    "application/vnd.databricks.v1+cell": {
     "cellMetadata": {},
     "inputWidgets": {},
     "nuid": "96eb66c3-697c-49b4-a6dc-435fd97470a7",
     "showTitle": false,
     "title": ""
    }
   },
   "outputs": [],
   "source": [
    "dance_continuation = complete_sentence(text_generation, dance_prompts)"
   ]
  },
  {
   "cell_type": "markdown",
   "metadata": {
    "application/vnd.databricks.v1+cell": {
     "cellMetadata": {},
     "inputWidgets": {},
     "nuid": "3675acf6-206f-4c1d-acc8-2b1fbd5a4a8f",
     "showTitle": false,
     "title": ""
    }
   },
   "source": [
    "Then, let's generate text for scientists."
   ]
  },
  {
   "cell_type": "code",
   "execution_count": 0,
   "metadata": {
    "application/vnd.databricks.v1+cell": {
     "cellMetadata": {},
     "inputWidgets": {},
     "nuid": "73c34e0f-1d97-40b6-b109-3831fb266ade",
     "showTitle": false,
     "title": ""
    }
   },
   "outputs": [],
   "source": [
    "science_continuation = complete_sentence(text_generation, science_prompts)"
   ]
  },
  {
   "cell_type": "markdown",
   "metadata": {
    "application/vnd.databricks.v1+cell": {
     "cellMetadata": {},
     "inputWidgets": {},
     "nuid": "dc303e1c-babd-44bc-a6f3-bed54cd64661",
     "showTitle": false,
     "title": ""
    }
   },
   "source": [
    "### Question 3\n",
    "Your turn to ask the model to complete sentences for each group! "
   ]
  },
  {
   "cell_type": "code",
   "execution_count": 0,
   "metadata": {
    "application/vnd.databricks.v1+cell": {
     "cellMetadata": {},
     "inputWidgets": {},
     "nuid": "99030d80-8580-4c86-86e4-7d588d3d8530",
     "showTitle": false,
     "title": ""
    }
   },
   "outputs": [],
   "source": [
    "# TODO\n",
    "\n",
    "group1_continuation = complete_sentence(<FILL_IN>)\n",
    "group2_continuation = complete_sentence(<FILL_IN>)"
   ]
  },
  {
   "cell_type": "code",
   "execution_count": 0,
   "metadata": {
    "application/vnd.databricks.v1+cell": {
     "cellMetadata": {},
     "inputWidgets": {},
     "nuid": "f9f77b1c-d479-4589-a4e4-08768aa86fe0",
     "showTitle": false,
     "title": ""
    }
   },
   "outputs": [],
   "source": [
    "# Test your answer. DO NOT MODIFY THIS CELL.\n",
    "\n",
    "dbTestQuestion5_3(group1_continuation, group2_continuation)"
   ]
  },
  {
   "cell_type": "markdown",
   "metadata": {
    "application/vnd.databricks.v1+cell": {
     "cellMetadata": {},
     "inputWidgets": {},
     "nuid": "834866fd-dce2-4b90-93b4-3ff80778a969",
     "showTitle": false,
     "title": ""
    }
   },
   "source": [
    "Now that we have the prompts and the completion examples by GPT-2, we can evaluate the differences in regard towards both groups. "
   ]
  },
  {
   "cell_type": "code",
   "execution_count": 0,
   "metadata": {
    "application/vnd.databricks.v1+cell": {
     "cellMetadata": {},
     "inputWidgets": {},
     "nuid": "3842650a-458e-404d-a32e-3f8d910c6dd2",
     "showTitle": false,
     "title": ""
    }
   },
   "outputs": [],
   "source": [
    "import evaluate\n",
    "\n",
    "regard = evaluate.load(\"regard\", \"compare\", cache_dir=DA.paths.datasets)"
   ]
  },
  {
   "cell_type": "markdown",
   "metadata": {
    "application/vnd.databricks.v1+cell": {
     "cellMetadata": {},
     "inputWidgets": {},
     "nuid": "7dab0917-d46d-473f-8468-2bf370147d29",
     "showTitle": false,
     "title": ""
    }
   },
   "source": [
    "Wow, based on the `positive` regard field, we see that people in scientific occupations are regarded much more positively than those in dance (refer to the `positive` field) ! "
   ]
  },
  {
   "cell_type": "code",
   "execution_count": 0,
   "metadata": {
    "application/vnd.databricks.v1+cell": {
     "cellMetadata": {},
     "inputWidgets": {},
     "nuid": "5ec9308e-3638-4298-821e-b6a112272669",
     "showTitle": false,
     "title": ""
    }
   },
   "outputs": [],
   "source": [
    "# this returns the regard scores of each string in the input list\n",
    "regard.compute(data=science_continuation, references=dance_continuation)"
   ]
  },
  {
   "cell_type": "markdown",
   "metadata": {
    "application/vnd.databricks.v1+cell": {
     "cellMetadata": {},
     "inputWidgets": {},
     "nuid": "2472cea7-63d3-4951-9d0c-fa4592f46c76",
     "showTitle": false,
     "title": ""
    }
   },
   "source": [
    "\n",
    "### Question 4\n",
    "Now, compute regard score for your groups!"
   ]
  },
  {
   "cell_type": "code",
   "execution_count": 0,
   "metadata": {
    "application/vnd.databricks.v1+cell": {
     "cellMetadata": {},
     "inputWidgets": {},
     "nuid": "ab81551e-9052-4499-b4a2-4e9084bf7bf9",
     "showTitle": false,
     "title": ""
    }
   },
   "outputs": [],
   "source": [
    "# TODO\n",
    "\n",
    "regard.compute(data=<FILL_IN>, references=<FILL_IN>)"
   ]
  },
  {
   "cell_type": "code",
   "execution_count": 0,
   "metadata": {
    "application/vnd.databricks.v1+cell": {
     "cellMetadata": {},
     "inputWidgets": {},
     "nuid": "234f0841-8afd-4aa3-bda4-30ec65601915",
     "showTitle": false,
     "title": ""
    }
   },
   "outputs": [],
   "source": [
    "# Test your answer. DO NOT MODIFY THIS CELL.\n",
    "\n",
    "dbTestQuestion5_4(\n",
    "    regard.compute(data=group1_continuation, references=group2_continuation)\n",
    ")"
   ]
  },
  {
   "cell_type": "markdown",
   "metadata": {
    "application/vnd.databricks.v1+cell": {
     "cellMetadata": {},
     "inputWidgets": {},
     "nuid": "5c32b34c-370c-4897-ab17-e8dc2bafd7f9",
     "showTitle": false,
     "title": ""
    }
   },
   "source": [
    "## Bonus: NLP Test\n",
    "\n",
    "To switch gears a bit, we will now turn to looking at how we can test our NLP models and see how safe and effective they are using `nlptest`. The [library](https://nlptest.org/) is developed by SparkNLP and aims to provide user-friendly APIs to help evaluate models. This library was just released in April 2023. \n",
    "\n",
    "The test categories include:\n",
    "\n",
    "- Accuracy\n",
    "- Bias\n",
    "- Fairness\n",
    "- Representation\n",
    "- Robustness\n",
    "\n",
    "Currently, the library supports either `text-classification` or `ner` task.\n",
    "\n",
    "To start, we will use the `Harness` class to define what types of tests we would like to conduct on any given NLP model. You can read more about [Harness here](https://nlptest.org/docs/pages/docs/harness). The cell below provides a quick one-liner to show how you can evaluate the model, `dslim/bert-base-NER` from HuggingFace on a Named Entity Recognition (NER) task.\n",
    "\n",
    "You can choose to provide your own saved model or load existing models from `spacy` or `John Snow Labs` as well. "
   ]
  },
  {
   "cell_type": "code",
   "execution_count": 0,
   "metadata": {
    "application/vnd.databricks.v1+cell": {
     "cellMetadata": {},
     "inputWidgets": {},
     "nuid": "a22d1374-243c-4d19-b963-690047e199b2",
     "showTitle": false,
     "title": ""
    }
   },
   "outputs": [],
   "source": [
    "from nlptest import Harness\n",
    "\n",
    "# Create a Harness object\n",
    "h = Harness(task=\"ner\", model=\"dslim/bert-base-NER\", hub=\"huggingface\")"
   ]
  },
  {
   "cell_type": "markdown",
   "metadata": {
    "application/vnd.databricks.v1+cell": {
     "cellMetadata": {},
     "inputWidgets": {},
     "nuid": "d9d1bd6a-e9bf-46d3-8cfe-6b0ef3ad179f",
     "showTitle": false,
     "title": ""
    }
   },
   "source": [
    "We won't run the following cell since it could take up to 7 mins. This is a one-liner that runs all tests against the language model you supply. \n",
    "\n",
    "Notice that it consists of three steps: \n",
    "1. Generate test cases\n",
    "2. Run the test cases\n",
    "3. Generate a report of your test cases"
   ]
  },
  {
   "cell_type": "code",
   "execution_count": 0,
   "metadata": {
    "application/vnd.databricks.v1+cell": {
     "cellMetadata": {},
     "inputWidgets": {},
     "nuid": "cf28a470-5669-4f28-812e-5b62274ea282",
     "showTitle": false,
     "title": ""
    }
   },
   "outputs": [],
   "source": [
    "# h.generate().run().report()"
   ]
  },
  {
   "cell_type": "markdown",
   "metadata": {
    "application/vnd.databricks.v1+cell": {
     "cellMetadata": {},
     "inputWidgets": {},
     "nuid": "f7c1a8fb-8262-4da4-b279-22b8949df21a",
     "showTitle": false,
     "title": ""
    }
   },
   "source": [
    "If you do run `h.generate().run.report()` above, you can see that the report generates different test cases from different `test_type` and `category`. Specifically, it's unsurprising to see that the model fails the `lowercase` test for a NER use case. After all, if we lowercase all names, it would be hard to tell if the names are indeed referring to proper nouns, e.g. \"the los angeles time\" vs. \"the Los Angeles Times\".\n",
    "\n",
    "You can get a complete list of tests in their [documentation](https://nlptest.org/docs/pages/tests/test). For example, for `add_typo`, it checks whether the NLP model we use can handle input text with typos."
   ]
  },
  {
   "cell_type": "markdown",
   "metadata": {
    "application/vnd.databricks.v1+cell": {
     "cellMetadata": {},
     "inputWidgets": {},
     "nuid": "60193306-3940-4744-ae65-2bbaea96614f",
     "showTitle": false,
     "title": ""
    }
   },
   "source": [
    "## Submit your Results (edX Verified Only)\n",
    "\n",
    "To get credit for this lab, click the submit button in the top right to report the results. If you run into any issues, click `Run` -> `Clear state and run all`, and make sure all tests have passed before re-submitting. If you accidentally deleted any tests, take a look at the notebook's version history to recover them or reload the notebooks."
   ]
  },
  {
   "cell_type": "markdown",
   "metadata": {
    "application/vnd.databricks.v1+cell": {
     "cellMetadata": {},
     "inputWidgets": {},
     "nuid": "856db023-df06-4862-8640-28a910ca65b0",
     "showTitle": false,
     "title": ""
    }
   },
   "source": [
    "&copy; 2023 Databricks, Inc. All rights reserved.<br/>\n",
    "Apache, Apache Spark, Spark and the Spark logo are trademarks of the <a href=\"https://www.apache.org/\">Apache Software Foundation</a>.<br/>\n",
    "<br/>\n",
    "<a href=\"https://databricks.com/privacy-policy\">Privacy Policy</a> | <a href=\"https://databricks.com/terms-of-use\">Terms of Use</a> | <a href=\"https://help.databricks.com/\">Support</a>"
   ]
  }
 ],
 "metadata": {
  "application/vnd.databricks.v1+notebook": {
   "dashboards": [],
   "language": "python",
   "notebookMetadata": {
    "pythonIndentUnit": 2
   },
   "notebookName": "LLM 05L - LLMs and Society Lab",
   "widgets": {}
  }
 },
 "nbformat": 4,
 "nbformat_minor": 0
}
