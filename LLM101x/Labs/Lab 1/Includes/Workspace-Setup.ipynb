{
 "cells": [
  {
   "cell_type": "markdown",
   "metadata": {
    "application/vnd.databricks.v1+cell": {
     "cellMetadata": {},
     "inputWidgets": {},
     "nuid": "a0ae43aa-cbef-4985-8a4b-8c378300501b",
     "showTitle": false,
     "title": ""
    }
   },
   "source": [
    "# Run the Universal-Workspace-Setup Job\n",
    "This will dispatch to the UWS to provide a standard configuration for all labs.\n",
    "\n",
    "<span style=\"font-weight:bold; color:red\">WARNING</span>: Running this notebook is <b>no longer required</b> and may actually break your learning environment if executed. This is included here only for testing purposes."
   ]
  },
  {
   "cell_type": "code",
   "execution_count": 0,
   "metadata": {
    "application/vnd.databricks.v1+cell": {
     "cellMetadata": {},
     "inputWidgets": {},
     "nuid": "484ff29c-19a1-4742-ae3c-38df07681222",
     "showTitle": false,
     "title": ""
    }
   },
   "outputs": [],
   "source": [
    "%run ./_common"
   ]
  },
  {
   "cell_type": "code",
   "execution_count": 0,
   "metadata": {
    "application/vnd.databricks.v1+cell": {
     "cellMetadata": {},
     "inputWidgets": {},
     "nuid": "b5e3c7bd-4a00-455c-bea9-23fd9d03d0c8",
     "showTitle": false,
     "title": ""
    }
   },
   "outputs": [],
   "source": [
    "from dbacademy.dbhelper.universal_worskpace_setup_runner import UniversalWorkspaceSetupRunner\n",
    "\n",
    "runner = UniversalWorkspaceSetupRunner(\n",
    "    token=dbutils.notebook.entry_point.getDbutils().notebook().getContext().apiToken().getOrElse(None),\n",
    "    endpoint=dbutils.notebook.entry_point.getDbutils().notebook().getContext().apiUrl().getOrElse(None),\n",
    "    course_config=course_config,\n",
    "    workspace_name=sc.getConf().get(\"spark.databricks.workspaceUrl\", defaultValue=\"Unknown\")\n",
    ")\n",
    "\n",
    "runner.run()"
   ]
  },
  {
   "cell_type": "markdown",
   "metadata": {
    "application/vnd.databricks.v1+cell": {
     "cellMetadata": {},
     "inputWidgets": {},
     "nuid": "30f43fb6-460f-4a4b-824d-8e0503267868",
     "showTitle": false,
     "title": ""
    }
   },
   "source": [
    "# Install Datasets\n",
    "The current version of the UWS won't install user-specific datasets yest so this is a hack to force it to install before moving to round #2 tests that will install the user-specific datasets, but fail the tests due to their asyncrounus nature."
   ]
  },
  {
   "cell_type": "code",
   "execution_count": 0,
   "metadata": {
    "application/vnd.databricks.v1+cell": {
     "cellMetadata": {},
     "inputWidgets": {},
     "nuid": "75d87c6f-9b94-4fc4-88b7-34af108e3055",
     "showTitle": false,
     "title": ""
    }
   },
   "outputs": [],
   "source": [
    "DA = DBAcademyHelper(course_config, lesson_config)  # Create the DA object\n",
    "DA.reset_lesson()                                   # Reset the lesson to a clean state\n",
    "DA.init()                                           # Performs basic intialization including creating schemas and catalogs\n",
    "DA.conclude_setup()                                 # Finalizes the state and prints the config for the student\n"
   ]
  }
 ],
 "metadata": {
  "application/vnd.databricks.v1+notebook": {
   "dashboards": [],
   "language": "python",
   "notebookMetadata": {
    "pythonIndentUnit": 2
   },
   "notebookName": "Workspace-Setup",
   "widgets": {}
  }
 },
 "nbformat": 4,
 "nbformat_minor": 0
}
